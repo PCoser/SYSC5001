{
 "cells": [
  {
   "cell_type": "markdown",
   "metadata": {},
   "source": [
    "# Project for SYSC5001"
   ]
  },
  {
   "cell_type": "markdown",
   "metadata": {},
   "source": [
    "### Simulation of a manufacturing plant"
   ]
  },
  {
   "cell_type": "markdown",
   "metadata": {},
   "source": [
    "### Importing Libraries"
   ]
  },
  {
   "cell_type": "code",
   "execution_count": 1,
   "metadata": {},
   "outputs": [],
   "source": [
    "import pandas as pd\n",
    "from math import log, pow\n",
    "import random"
   ]
  },
  {
   "cell_type": "markdown",
   "metadata": {},
   "source": [
    "### Creating the workstation variables and functions "
   ]
  },
  {
   "cell_type": "code",
   "execution_count": 2,
   "metadata": {},
   "outputs": [],
   "source": [
    "class workstation:\n",
    "    def __init__(self,param):\n",
    "        self.stat = 0\n",
    "        self.bufferC1 = 0\n",
    "        self.bufferC2 = 0\n",
    "        self.bufferC3 = 0\n",
    "        self.work_time = 0\n",
    "        self.start_time = 0\n",
    "        self.Production = 0\n",
    "        self.parameters = param\n",
    "    def start_ws(self, W,clock):\n",
    "        #get_random time\n",
    "        b,a,c = self.parameters\n",
    "        if a > 1:\n",
    "            time = c*random.weibullvariate(a,b)\n",
    "        else:\n",
    "            time = c*random.expovariate(a)\n",
    "        #change status\n",
    "        self.stat = 1\n",
    "        self.start_time = clock\n",
    "        self.bufferC1 -= 1          #Consume 1 component from the buffer C1\n",
    "        if W == 'w2':\n",
    "            self.bufferC2 -= 1      #Consume 1 component from the buffer C2\n",
    "        elif W == 'w3':\n",
    "            self.bufferC3 -= 1      #Consume 1 component from the buffer C3\n",
    "        #schedule next event\n",
    "        next_event = [time+clock, W,'Finish '+W]\n",
    "        return next_event\n",
    "    def end_ws(self, clock):\n",
    "        #change status\n",
    "        self.stat = 0\n",
    "        self.work_time = self.work_time + clock - self.start_time\n",
    "        self.Production += 1\n",
    "        \n",
    "        "
   ]
  },
  {
   "cell_type": "markdown",
   "metadata": {},
   "source": [
    "### Creating the Inspectors variables and functions"
   ]
  },
  {
   "cell_type": "code",
   "execution_count": 3,
   "metadata": {},
   "outputs": [],
   "source": [
    "class inspector:\n",
    "    def __init__(self):\n",
    "        self.stat = 0\n",
    "        self.block = 0\n",
    "        self.work_time = 0\n",
    "        self.start_time = 0\n",
    "        self.C1 = 0 #Component waiting to deliver\n",
    "        self.C2 = 0 #Component waiting to deliver\n",
    "        self.C3 = 0 #Component waiting to deliver\n",
    "    def start_ipc(self, C, parameters, clock):\n",
    "        #get_random time\n",
    "        b,a,c = parameters\n",
    "        if a > 1:\n",
    "            time = c*random.weibullvariate(a,b)\n",
    "        else:\n",
    "            time = c*random.expovariate(a)\n",
    "        #change status\n",
    "        self.stat = 1\n",
    "        self.start_time = clock\n",
    "        #schedule next event\n",
    "        next_event = [time+clock,'insp'+C[1],'Finish '+C]\n",
    "        return next_event\n",
    "    def end_ipc(self, clock):\n",
    "        self.stat = 0\n",
    "        self.work_time = self.work_time + clock - self.start_time \n",
    "        #change status"
   ]
  },
  {
   "cell_type": "markdown",
   "metadata": {},
   "source": [
    "## Insert new event to the Event List"
   ]
  },
  {
   "cell_type": "code",
   "execution_count": 4,
   "metadata": {},
   "outputs": [],
   "source": [
    "def event_list(lista):\n",
    "    lista = [lista[0],['w1={}'.format(w1.stat),\n",
    "                  'w1_buffer_C1={}'.format(w1.bufferC1),\n",
    "                  'w2={}'.format(w2.stat,w2.bufferC1),\n",
    "                  'w2_bufferC1={}'.format(w2.bufferC1),\n",
    "                  'w2_bufferC2={}'.format(w2.bufferC2),\n",
    "                  'w3={}'.format(w3.stat),\n",
    "                  'w3_bufferC1={}'.format(w3.bufferC1),\n",
    "                  'w3_bufferC3={}'.format(w3.bufferC3),\n",
    "                  'Insp1={}'.format(insp1.stat),\n",
    "                  'Insp1_Blocked={}'.format(insp1.block),\n",
    "                  'Insp2={}'.format(insp2.stat),\n",
    "                  'Insp2_Blocked={}'.format(insp2.block),\n",
    "                 ],queue,lista[1],lista[2],['w1_Prod={}'.format(w1.Production),\n",
    "                                           'w2_Prod={}'.format(w2.Production),\n",
    "                                           'w3_Prod={}'.format(w3.Production)]]\n",
    "    \n",
    "    Events.loc[-1] = lista  # adding a row\n",
    "    Events.index = Events.index + 1  # shifting index\n",
    "    Events.reset_index(inplace=True)\n",
    "    Events.drop('index',axis=1, inplace=True)"
   ]
  },
  {
   "cell_type": "markdown",
   "metadata": {},
   "source": [
    "## Insert new event to the Future Event queue"
   ]
  },
  {
   "cell_type": "code",
   "execution_count": 5,
   "metadata": {},
   "outputs": [],
   "source": [
    "def insert(lista):\n",
    "    queue.loc[-1] = lista  # adding a row\n",
    "    queue.index = queue.index + 1  # shifting index\n",
    "    queue.sort_values(by='Clock',axis=0, inplace=True)\n",
    "    queue.reset_index(inplace=True)\n",
    "    queue.drop('index',axis=1, inplace=True)"
   ]
  },
  {
   "cell_type": "markdown",
   "metadata": {},
   "source": [
    "## Getting and dropping first from list"
   ]
  },
  {
   "cell_type": "code",
   "execution_count": 6,
   "metadata": {},
   "outputs": [],
   "source": [
    "def next_event():\n",
    "    nexteve = queue.loc[0]\n",
    "    queue.drop(0,axis=0,inplace=True)\n",
    "    queue.reset_index(inplace=True)\n",
    "    queue.drop('index',axis=1, inplace=True)\n",
    "    return list(nexteve)"
   ]
  },
  {
   "cell_type": "markdown",
   "metadata": {},
   "source": [
    "## initialization"
   ]
  },
  {
   "cell_type": "code",
   "execution_count": 7,
   "metadata": {},
   "outputs": [],
   "source": [
    "count = 0\n",
    "Clock = 0\n",
    "event = ['','','']\n",
    "queue = pd.DataFrame(columns=['Clock', 'Entity', 'Event'])\n",
    "Events = pd.DataFrame(columns=['Clock', 'System State','FEQ','Entity', 'Event','Production'])\n",
    "w1 = workstation([1,0.195,1])\n",
    "w2 = workstation([1,13.4,1])\n",
    "w3 = workstation([1,9.6,1])\n",
    "insp1 = inspector()\n",
    "insp2 = inspector()"
   ]
  },
  {
   "cell_type": "markdown",
   "metadata": {},
   "source": [
    "## Simulation Loop"
   ]
  },
  {
   "cell_type": "code",
   "execution_count": 8,
   "metadata": {},
   "outputs": [
    {
     "name": "stdout",
     "output_type": "stream",
     "text": [
      "w1 C1 buffer 0\n",
      "w2 C1 buffer 0\n",
      "w2 C2 buffer 2\n",
      "w3 C1 buffer 0\n",
      "w3 C3 buffer 2\n",
      "w1 busy 1\n",
      "w2 busy 0\n",
      "w3 busy 0\n",
      "insp 1 blocked 0\n",
      "insp 2 blocked 0\n"
     ]
    },
    {
     "data": {
      "text/html": [
       "<div>\n",
       "<style scoped>\n",
       "    .dataframe tbody tr th:only-of-type {\n",
       "        vertical-align: middle;\n",
       "    }\n",
       "\n",
       "    .dataframe tbody tr th {\n",
       "        vertical-align: top;\n",
       "    }\n",
       "\n",
       "    .dataframe thead th {\n",
       "        text-align: right;\n",
       "    }\n",
       "</style>\n",
       "<table border=\"1\" class=\"dataframe\">\n",
       "  <thead>\n",
       "    <tr style=\"text-align: right;\">\n",
       "      <th></th>\n",
       "      <th>Clock</th>\n",
       "      <th>System State</th>\n",
       "      <th>FEQ</th>\n",
       "      <th>Entity</th>\n",
       "      <th>Event</th>\n",
       "      <th>Production</th>\n",
       "    </tr>\n",
       "  </thead>\n",
       "  <tbody>\n",
       "    <tr>\n",
       "      <th>4336</th>\n",
       "      <td>9971.69</td>\n",
       "      <td>[w1=1, w1_buffer_C1=0, w2=0, w2_bufferC1=0, w2...</td>\n",
       "      <td>Clock Entity      Event\n",
       "0  10004.942...</td>\n",
       "      <td>w1</td>\n",
       "      <td>Starting w1</td>\n",
       "      <td>[w1_Prod=736, w2_Prod=86, w3_Prod=14]</td>\n",
       "    </tr>\n",
       "    <tr>\n",
       "      <th>4337</th>\n",
       "      <td>9979.35</td>\n",
       "      <td>[w1=0, w1_buffer_C1=0, w2=0, w2_bufferC1=0, w2...</td>\n",
       "      <td>Clock Entity      Event\n",
       "0  10004.942...</td>\n",
       "      <td>w1</td>\n",
       "      <td>Finish w1</td>\n",
       "      <td>[w1_Prod=737, w2_Prod=86, w3_Prod=14]</td>\n",
       "    </tr>\n",
       "    <tr>\n",
       "      <th>4338</th>\n",
       "      <td>10003.8</td>\n",
       "      <td>[w1=0, w1_buffer_C1=0, w2=0, w2_bufferC1=0, w2...</td>\n",
       "      <td>Clock Entity      Event\n",
       "0  10004.942...</td>\n",
       "      <td>insp1</td>\n",
       "      <td>Finish C1</td>\n",
       "      <td>[w1_Prod=737, w2_Prod=86, w3_Prod=14]</td>\n",
       "    </tr>\n",
       "    <tr>\n",
       "      <th>4339</th>\n",
       "      <td>10003.8</td>\n",
       "      <td>[w1=0, w1_buffer_C1=1, w2=0, w2_bufferC1=0, w2...</td>\n",
       "      <td>Clock Entity      Event\n",
       "0  10004.942...</td>\n",
       "      <td>insp1</td>\n",
       "      <td>Starting C1</td>\n",
       "      <td>[w1_Prod=737, w2_Prod=86, w3_Prod=14]</td>\n",
       "    </tr>\n",
       "    <tr>\n",
       "      <th>4340</th>\n",
       "      <td>10003.8</td>\n",
       "      <td>[w1=1, w1_buffer_C1=0, w2=0, w2_bufferC1=0, w2...</td>\n",
       "      <td>Clock Entity      Event\n",
       "0  10004.942...</td>\n",
       "      <td>w1</td>\n",
       "      <td>Starting w1</td>\n",
       "      <td>[w1_Prod=737, w2_Prod=86, w3_Prod=14]</td>\n",
       "    </tr>\n",
       "  </tbody>\n",
       "</table>\n",
       "</div>"
      ],
      "text/plain": [
       "        Clock                                       System State  \\\n",
       "4336  9971.69  [w1=1, w1_buffer_C1=0, w2=0, w2_bufferC1=0, w2...   \n",
       "4337  9979.35  [w1=0, w1_buffer_C1=0, w2=0, w2_bufferC1=0, w2...   \n",
       "4338  10003.8  [w1=0, w1_buffer_C1=0, w2=0, w2_bufferC1=0, w2...   \n",
       "4339  10003.8  [w1=0, w1_buffer_C1=1, w2=0, w2_bufferC1=0, w2...   \n",
       "4340  10003.8  [w1=1, w1_buffer_C1=0, w2=0, w2_bufferC1=0, w2...   \n",
       "\n",
       "                                                    FEQ Entity        Event  \\\n",
       "4336            Clock Entity      Event\n",
       "0  10004.942...     w1  Starting w1   \n",
       "4337            Clock Entity      Event\n",
       "0  10004.942...     w1    Finish w1   \n",
       "4338            Clock Entity      Event\n",
       "0  10004.942...  insp1    Finish C1   \n",
       "4339            Clock Entity      Event\n",
       "0  10004.942...  insp1  Starting C1   \n",
       "4340            Clock Entity      Event\n",
       "0  10004.942...     w1  Starting w1   \n",
       "\n",
       "                                 Production  \n",
       "4336  [w1_Prod=736, w2_Prod=86, w3_Prod=14]  \n",
       "4337  [w1_Prod=737, w2_Prod=86, w3_Prod=14]  \n",
       "4338  [w1_Prod=737, w2_Prod=86, w3_Prod=14]  \n",
       "4339  [w1_Prod=737, w2_Prod=86, w3_Prod=14]  \n",
       "4340  [w1_Prod=737, w2_Prod=86, w3_Prod=14]  "
      ]
     },
     "execution_count": 8,
     "metadata": {},
     "output_type": "execute_result"
    }
   ],
   "source": [
    "while True: \n",
    "    #Getting a new event from the list\n",
    "    if queue.size:             #Check if is not empty\n",
    "        event = next_event()\n",
    "        Clock = event[0]           #Updating Clock\n",
    "    #Executing Change of states triggered by the event\n",
    "    if event[2] == 'Finish C1':\n",
    "        insp1.end_ipc(Clock)\n",
    "        event_list([Clock, event[1], event[2]])\n",
    "        if w1.bufferC1 <= w2.bufferC1 and w1.bufferC1 <= w3.bufferC1 and w1.bufferC1 < 2:\n",
    "            w1.bufferC1 += 1\n",
    "        elif w2.bufferC1 <= w3.bufferC1 and w2.bufferC1 < 2:\n",
    "            w2.bufferC1 += 1\n",
    "        elif w3.bufferC1 < 2:\n",
    "            w3.bufferC1 += 1\n",
    "        else:\n",
    "            insp1.block = 1\n",
    "            insp1.C1 = 1\n",
    "    if event[2] == 'Finish C2':\n",
    "        insp2.end_ipc(Clock)\n",
    "        event_list([Clock, event[1], event[2]])\n",
    "        if w2.bufferC2 < 2:\n",
    "            w2.bufferC2 += 1\n",
    "        else:\n",
    "            insp2.block = 1\n",
    "            insp2.C2 = 1\n",
    "    if event[2] == 'Finish C3':\n",
    "        insp2.end_ipc(Clock)\n",
    "        event_list([Clock, event[1], event[2]])\n",
    "        if w3.bufferC3 < 2:\n",
    "            w3.bufferC3 += 1\n",
    "        else:\n",
    "            insp2.block = 1\n",
    "            insp2.C3 = 1\n",
    "    if event[2] == 'Finish w1':\n",
    "        w1.end_ws(Clock)\n",
    "        event_list([Clock, event[1], event[2]])\n",
    "    if event[2] == 'Finish w2':\n",
    "        w2.end_ws(Clock)\n",
    "        event_list([Clock, event[1], event[2]])\n",
    "    if event[2] == 'Finish w3':\n",
    "        w3.end_ws(Clock)\n",
    "        event_list([Clock, event[1], event[2]])\n",
    "    \n",
    "    #Check for system status and initialyse activities if possible\n",
    "    #inspector 1                                          #Check if inspector can start new activity\n",
    "    busy1 = insp1.stat\n",
    "    blocked1 = insp1.block\n",
    "    if not busy1 and not blocked1: \n",
    "        insert(insp1.start_ipc('C1', [1,11.8,1], Clock))              #Schedule finishing event\n",
    "        event_list([Clock,'insp1','Starting C1'])\n",
    "    #inspector 2                                          #Check if inspector can start new activity\n",
    "    busy2 = insp2.stat\n",
    "    blocked2 = insp2.block\n",
    "    if not busy2 and not blocked1:\n",
    "        rand = random.randint(0,1)\n",
    "        if rand == 1:\n",
    "            insert(insp2.start_ipc('C2', [1,17.8,1], Clock))          #Schedule finishing event\n",
    "            event_list([Clock,'insp2','Starting C2'])\n",
    "        else:\n",
    "            insert(insp2.start_ipc('C3', [1,0.0458,1], Clock))          #Schedule finishing event\n",
    "            event_list([Clock,'insp2','Starting C3'])\n",
    "    #Workstation 1 -----------------------------------------Check if worksation can start new activity\n",
    "    busy1 = w1.stat\n",
    "    C1 = w1.bufferC1\n",
    "    if not busy1 and (C1>0):\n",
    "        insert(w1.start_ws('w1', Clock))              #Schedule finishing event\n",
    "        event_list([Clock,'w1','Starting w1'])\n",
    "    #Workstation 2 -----------------------------------------Check if worksation can start new activity\n",
    "    busy2 = w2.stat\n",
    "    C1 = w2.bufferC1\n",
    "    C2 = w2.bufferC2\n",
    "    if not busy2 and (C1>0) and (C2>0):\n",
    "        insert(w2.start_ws('w2', Clock))              #Schedule finishing event\n",
    "        event_list([Clock,'w2','Starting w2'])\n",
    "    #Workstation 3 -----------------------------------------Check if worksation can start new activity\n",
    "    busy3 = w3.stat\n",
    "    C1 = w3.bufferC1\n",
    "    C3 = w3.bufferC3\n",
    "    if not busy3 and (C1>0) and (C3>0):\n",
    "        insert(w3.start_ws('w3', Clock))              #Schedule finishing event\n",
    "        event_list([Clock,'w3','Starting w3'])\n",
    "        \n",
    "    #Checking if inspectors can be unblocked\n",
    "    if insp1.C1 and (w1.bufferC1 < 2 or w1.bufferC1 < 2 or w1.bufferC1 < 2):\n",
    "        insp1.block = 0\n",
    "    if (insp2.C2 and w2.bufferC2 < 2) or (insp2.C3 and w3.bufferC3 < 2):\n",
    "        insp2.block = 0\n",
    "    \n",
    "    #Finishing the Simulation\n",
    "    count += 1\n",
    "    if Clock >= 10000:\n",
    "        break\n",
    "    if count > 100000:\n",
    "        break\n",
    "    \n",
    "print('w1 C1 buffer',w1.bufferC1)\n",
    "print('w2 C1 buffer',w2.bufferC1)\n",
    "print('w2 C2 buffer',w2.bufferC2)\n",
    "print('w3 C1 buffer',w3.bufferC1)\n",
    "print('w3 C3 buffer',w3.bufferC3)\n",
    "print('w1 busy',w1.stat)\n",
    "print('w2 busy',w2.stat)\n",
    "print('w3 busy',w3.stat)\n",
    "print('insp 1 blocked', insp1.block)\n",
    "print('insp 2 blocked', insp2.block)\n",
    "Events.tail()"
   ]
  },
  {
   "cell_type": "markdown",
   "metadata": {},
   "source": [
    "## Results of Simulation"
   ]
  },
  {
   "cell_type": "code",
   "execution_count": 9,
   "metadata": {},
   "outputs": [
    {
     "name": "stdout",
     "output_type": "stream",
     "text": [
      "w1 Production 737\n",
      "w1 % of working time = 39.31%\n",
      "w2 Production 86\n",
      "w2 % of working time = 11.31%\n",
      "w3 Production = 14\n",
      "w3 % of working time = 1.54%\n",
      "Overall effectiveness = 17.39%\n",
      "\n",
      "Inspector 1 working rate = 99.85%\n",
      "Inspector 2 working rate = 99.48%\n"
     ]
    }
   ],
   "source": [
    "print('w1 Production', w1.Production)\n",
    "print('w1 % of working time = {:2.2%}'.format(w1.work_time/Clock))\n",
    "print('w2 Production', w2.Production)\n",
    "print('w2 % of working time = {:2.2%}'.format(w2.work_time/Clock))\n",
    "print('w3 Production =', w3.Production)\n",
    "print('w3 % of working time = {:2.2%}'.format(w3.work_time/Clock))\n",
    "print('Overall effectiveness = {:2.2%}'.format((1/3)*((w1.work_time + w2.work_time + w3.work_time)/Clock)))\n",
    "print('')\n",
    "print('Inspector 1 working rate = {:2.2%}'.format(insp1.work_time/Clock))\n",
    "print('Inspector 2 working rate = {:2.2%}'.format(insp2.work_time/Clock))"
   ]
  },
  {
   "cell_type": "code",
   "execution_count": 10,
   "metadata": {},
   "outputs": [
    {
     "data": {
      "text/plain": [
       "2170"
      ]
     },
     "execution_count": 10,
     "metadata": {},
     "output_type": "execute_result"
    }
   ],
   "source": [
    "count"
   ]
  },
  {
   "cell_type": "code",
   "execution_count": null,
   "metadata": {},
   "outputs": [],
   "source": []
  }
 ],
 "metadata": {
  "kernelspec": {
   "display_name": "Python 3",
   "language": "python",
   "name": "python3"
  },
  "language_info": {
   "codemirror_mode": {
    "name": "ipython",
    "version": 3
   },
   "file_extension": ".py",
   "mimetype": "text/x-python",
   "name": "python",
   "nbconvert_exporter": "python",
   "pygments_lexer": "ipython3",
   "version": "3.7.0"
  }
 },
 "nbformat": 4,
 "nbformat_minor": 2
}
