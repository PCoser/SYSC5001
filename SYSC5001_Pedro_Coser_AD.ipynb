{
 "cells": [
  {
   "cell_type": "markdown",
   "metadata": {},
   "source": [
    "# Project for SYSC5001"
   ]
  },
  {
   "cell_type": "markdown",
   "metadata": {},
   "source": [
    "### Simulation of a manufacturing plant"
   ]
  },
  {
   "cell_type": "markdown",
   "metadata": {},
   "source": [
    "### Importing Libraries"
   ]
  },
  {
   "cell_type": "code",
   "execution_count": 1,
   "metadata": {},
   "outputs": [],
   "source": [
    "import pandas as pd\n",
    "import numpy as np\n",
    "from random import expovariate, weibullvariate, randint"
   ]
  },
  {
   "cell_type": "markdown",
   "metadata": {},
   "source": [
    "## Creating the workstation variables and methods \n",
    "#### This stores the variables for each workstation,as well, the methods to start and finish the activities"
   ]
  },
  {
   "cell_type": "code",
   "execution_count": 59,
   "metadata": {},
   "outputs": [],
   "source": [
    "class workstation:\n",
    "    def __init__(self,param,iteration): #---------------------Variables \n",
    "        self.stat = 0         #Flag for worspace busy = 1, iddle = 0\n",
    "        self.bufferC1 = 0     #\n",
    "        self.bufferC2 = 0     #\n",
    "        self.bufferC3 = 0     #\n",
    "        self.work_time = 1    #Stores the total working time\n",
    "        self.start_time = 0   #Store the starting time in order to compute the working time\n",
    "        self.Production = 0   #Stores the total amount of Production\n",
    "        self.SS_Production = 0 #Stores the total amount of Components Inspected at Steady-state\n",
    "        self.parameters = param #Stores the parameters for random variable function\n",
    "        self.efficiency = ['']*iteration\n",
    "        self.Prod_rate = ['']*iteration\n",
    "    def start_ws(self, W,clock, variable):\n",
    "        #get_random time\n",
    "        time = variable[W].loc[self.Production]\n",
    "        #change status\n",
    "        self.stat = 1\n",
    "        self.start_time = clock\n",
    "        self.bufferC1 -= 1          #Consume 1 component from the buffer C1\n",
    "        if W == 'w2':\n",
    "            self.bufferC2 -= 1      #Consume 1 component from the buffer C2\n",
    "        elif W == 'w3':\n",
    "            self.bufferC3 -= 1      #Consume 1 component from the buffer C3\n",
    "        #schedule next event\n",
    "        next_event = [time+clock, W,'Finish '+ W]\n",
    "        return next_event\n",
    "    def end_ws(self, clock):\n",
    "        #change status\n",
    "        self.stat = 0\n",
    "        self.work_time = self.work_time + clock - self.start_time\n",
    "        self.Production += 1\n",
    "    def statistics(self, count,Clock,ClockSS):\n",
    "        self.efficiency[count] = self.work_time/(Clock - ClockSS)\n",
    "        self.Prod_rate[count] = (self.Production/self.work_time)*60\n",
    "    def reset_statistics(self):\n",
    "        self.Production = 0\n",
    "        self.work_time = 1"
   ]
  },
  {
   "cell_type": "markdown",
   "metadata": {},
   "source": [
    "## Creating the Inspectors variables and methods\n",
    "#### This stores the variables for each inspector, as well has two methods to start and to finish the activities "
   ]
  },
  {
   "cell_type": "code",
   "execution_count": 72,
   "metadata": {},
   "outputs": [],
   "source": [
    "class inspector:\n",
    "    def __init__(self, iteration): #---------------------Variables \n",
    "        self.stat = 0       #Flag for inspector busy = 1, iddle = 0\n",
    "        self.block = 0      #Flag for inspector blocked due to lack of free spot to deliver\n",
    "        self.work_time = 1  #Stores the total working time \n",
    "        self.start_time = 0 #Store the starting time in order to compute the working time\n",
    "        self.C1 = 0 #Component waiting to deliver\n",
    "        self.C2 = 0 #Component waiting to deliver\n",
    "        self.C3 = 0 #Component waiting to deliver\n",
    "        self.Production = 0   #Stores the total amount of Components Inspected\n",
    "        self.efficiency = ['']*iteration\n",
    "        self.aver = 0         #average processing time\n",
    "        self.Prod_rate = ['']*iteration\n",
    "    def start_ipc(self, C, insp, clock, variable):#----------Method used to start one activity\n",
    "        #get_random time\n",
    "        time = variable[C].loc[self.Production]\n",
    "        #change status\n",
    "        self.stat = 1     #Set status to busy \n",
    "        self.start_time = clock\n",
    "        #schedule next event/ Return information to input on the queue\n",
    "        next_event = [time+clock,'insp'+insp,'Finish '+C]\n",
    "        return next_event\n",
    "    def end_ipc(self, clock):#--------------------------Method used to stop the current activity\n",
    "        self.stat = 0     #Set status to iddle\n",
    "        self.Production += 1\n",
    "        self.work_time = self.work_time + clock - self.start_time \n",
    "    def statistics(self, count, clock, clockSS):\n",
    "        self.efficiency[count] = self.work_time/(clock - clockSS)\n",
    "        self.Prod_rate[count] = (self.Production/self.work_time)*60\n",
    "    def reset_statistics(self):\n",
    "        self.Production = 0\n",
    "        self.work_time = 1"
   ]
  },
  {
   "cell_type": "markdown",
   "metadata": {},
   "source": [
    "## Insert new event to the Event List"
   ]
  },
  {
   "cell_type": "code",
   "execution_count": 4,
   "metadata": {},
   "outputs": [],
   "source": [
    "def event_list(lista):\n",
    "    lista = [lista[0],['w1={}'.format(w1.stat),\n",
    "                  'w1_buffer_C1={}'.format(w1.bufferC1),\n",
    "                  'w2={}'.format(w2.stat,w2.bufferC1),\n",
    "                  'w2_bufferC1={}'.format(w2.bufferC1),\n",
    "                  'w2_bufferC2={}'.format(w2.bufferC2),\n",
    "                  'w3={}'.format(w3.stat),\n",
    "                  'w3_bufferC1={}'.format(w3.bufferC1),\n",
    "                  'w3_bufferC3={}'.format(w3.bufferC3),\n",
    "                  'Insp1={}'.format(insp1.stat),\n",
    "                  'Insp1_Blocked={}'.format(insp1.block),\n",
    "                  'Insp2={}'.format(insp2.stat),\n",
    "                  'Insp2_Blocked={}'.format(insp2.block),\n",
    "                 ],queue,lista[1],lista[2],['w1_Prod={}'.format(w1.Production),\n",
    "                                           'w2_Prod={}'.format(w2.Production),\n",
    "                                           'w3_Prod={}'.format(w3.Production)]]\n",
    "    \n",
    "    Events.loc[-1] = lista  # adding a row\n",
    "    Events.index = Events.index + 1  # shifting index\n",
    "    Events.reset_index(inplace=True)\n",
    "    Events.drop('index',axis=1, inplace=True)"
   ]
  },
  {
   "cell_type": "markdown",
   "metadata": {},
   "source": [
    "## Insert new event to the Future Event queue"
   ]
  },
  {
   "cell_type": "code",
   "execution_count": 5,
   "metadata": {},
   "outputs": [],
   "source": [
    "def insert(lista):\n",
    "    queue.loc[-1] = lista  # adding a row\n",
    "    queue.index = queue.index + 1  # shifting index\n",
    "    queue.sort_values(by='Clock',axis=0, inplace=True)\n",
    "    queue.reset_index(inplace=True)\n",
    "    queue.drop('index',axis=1, inplace=True)"
   ]
  },
  {
   "cell_type": "markdown",
   "metadata": {},
   "source": [
    "## Getting and dropping first from list"
   ]
  },
  {
   "cell_type": "code",
   "execution_count": 6,
   "metadata": {},
   "outputs": [],
   "source": [
    "def next_event():\n",
    "    nexteve = queue.loc[0]\n",
    "    queue.drop(0,axis=0,inplace=True)\n",
    "    queue.reset_index(inplace=True)\n",
    "    queue.drop('index',axis=1, inplace=True)\n",
    "    return list(nexteve)"
   ]
  },
  {
   "cell_type": "markdown",
   "metadata": {},
   "source": [
    "## Random Variables Generator"
   ]
  },
  {
   "cell_type": "code",
   "execution_count": 41,
   "metadata": {},
   "outputs": [],
   "source": [
    "def var_gen(amount):\n",
    "    columns = ['C1','C2','C3','w1','w2','w3']\n",
    "    var = pd.DataFrame(columns = columns)\n",
    "    for i in range(amount):\n",
    "        var.loc[-1] = [weibullvariate(10.8,1),\n",
    "                       weibullvariate(14.8,1),\n",
    "                       expovariate(0.0758),\n",
    "                       expovariate(0.195),\n",
    "                       weibullvariate(6,1),\n",
    "                       weibullvariate(4.2,1)]\n",
    "        var.index = var.index + 1  # shifting index\n",
    "    return var"
   ]
  },
  {
   "cell_type": "markdown",
   "metadata": {},
   "source": [
    "## Initialization"
   ]
  },
  {
   "cell_type": "code",
   "execution_count": 181,
   "metadata": {},
   "outputs": [],
   "source": [
    "def initialization(itera):\n",
    "    global Clock,ClockSS,iteration,count,event,queue,Events,w1,w2,w3,insp1,insp2,insp3,ov_eff\n",
    "    iteration = itera\n",
    "    Clock = 1\n",
    "    ClockSS = 0\n",
    "    count = 0\n",
    "    event = ['','','']   # 0-Clock, 1-Entity, 2-Event\n",
    "    queue = pd.DataFrame(columns=['Clock', 'Entity', 'Event'])\n",
    "    Events = pd.DataFrame(columns=['Clock', 'System State','FEQ','Entity', 'Event','Production'])\n",
    "    w1 = workstation([1,0.195,1],iteration)\n",
    "    w2 = workstation([1,6.0,1],iteration)\n",
    "    w3 = workstation([1,4.2,1],iteration)\n",
    "    insp1 = inspector(iteration)\n",
    "    insp2 = inspector(iteration)\n",
    "    insp3 = inspector(iteration)\n",
    "    ov_eff = ['']*iteration"
   ]
  },
  {
   "cell_type": "code",
   "execution_count": 136,
   "metadata": {},
   "outputs": [
    {
     "data": {
      "text/plain": [
       "2.8492445026635167"
      ]
     },
     "execution_count": 136,
     "metadata": {},
     "output_type": "execute_result"
    }
   ],
   "source": [
    "event[0]"
   ]
  },
  {
   "cell_type": "markdown",
   "metadata": {},
   "source": [
    "## Simulation Loop"
   ]
  },
  {
   "cell_type": "code",
   "execution_count": 316,
   "metadata": {},
   "outputs": [],
   "source": [
    "def loop():\n",
    "    global Clock,ClockSS,iteration,count,event,queue,Events,w1,w2,w3,insp1,insp2,ov_eff,variable\n",
    "    \n",
    "    while True: \n",
    "        #Getting a new event from the list\n",
    "        if queue.size:             #Check if is not empty\n",
    "            event = next_event()\n",
    "            Clock = event[0]           #Updating Clock\n",
    "        #Executing Change of states triggered by the event\n",
    "        if event[2] == 'Finish C1':\n",
    "            insp1.end_ipc(Clock)\n",
    "            event_list([Clock, event[1], event[2]])\n",
    "            if w1.bufferC1 <= w2.bufferC1 and w1.bufferC1 <= w3.bufferC1 and w1.bufferC1 < 2:\n",
    "                w1.bufferC1 += 1\n",
    "            elif w2.bufferC1 <= w3.bufferC1 and w2.bufferC1 < 2:\n",
    "                w2.bufferC1 += 1\n",
    "            elif w3.bufferC1 < 2:\n",
    "                w3.bufferC1 += 1\n",
    "            else:\n",
    "                insp1.block = 1\n",
    "                insp1.C1 = 1\n",
    "        if event[2] == 'Finish C2':\n",
    "            insp2.end_ipc(Clock)\n",
    "            event_list([Clock, event[1], event[2]])\n",
    "            if w2.bufferC2 < 2:\n",
    "                w2.bufferC2 += 1\n",
    "            else:\n",
    "                insp2.block = 1\n",
    "                insp2.C2 = 1\n",
    "        if event[2] == 'Finish C3':\n",
    "            insp2.end_ipc(Clock)\n",
    "            event_list([Clock, event[1], event[2]])\n",
    "            if w3.bufferC3 < 2:\n",
    "                w3.bufferC3 += 1\n",
    "            else:\n",
    "                insp2.block = 1\n",
    "                insp2.C3 = 1\n",
    "        if event[2] == 'Finish w1':\n",
    "            w1.end_ws(Clock)\n",
    "            event_list([Clock, event[1], event[2]])\n",
    "        if event[2] == 'Finish w2':\n",
    "            w2.end_ws(Clock)\n",
    "            event_list([Clock, event[1], event[2]])\n",
    "        if event[2] == 'Finish w3':\n",
    "            w3.end_ws(Clock)\n",
    "            event_list([Clock, event[1], event[2]])\n",
    "\n",
    "        #Check for system status and initialyse activities if possible\n",
    "        #Workstation 1 -----------------------------------------Check if worksation can start new activity\n",
    "        busy1 = w1.stat\n",
    "        C1 = w1.bufferC1\n",
    "        if not busy1 and (C1>0):\n",
    "            insert(w1.start_ws('w1', Clock, variable))              #Schedule finishing event\n",
    "            event_list([Clock,'w1','Starting w1'])\n",
    "            if insp1.C1 == 1:\n",
    "                insp1.C1 = 0\n",
    "                insp1.block = 0\n",
    "                w1.bufferC1 += 1\n",
    "        #Workstation 2 -----------------------------------------Check if worksation can start new activity\n",
    "        busy2 = w2.stat\n",
    "        C1 = w2.bufferC1\n",
    "        C2 = w2.bufferC2\n",
    "        if not busy2 and (C1>0) and (C2>0):\n",
    "            insert(w2.start_ws('w2', Clock, variable))              #Schedule finishing event\n",
    "            event_list([Clock,'w2','Starting w2'])\n",
    "            if insp1.C1 == 1:\n",
    "                insp1.C1 = 0\n",
    "                insp1.block = 0\n",
    "                w3.bufferC1 += 1\n",
    "            if insp2.C2 == 1:\n",
    "                insp2.C2 = 0\n",
    "                insp2.block = 0\n",
    "                w2.bufferC2 += 1\n",
    "        #Workstation 3 -----------------------------------------Check if worksation can start new activity\n",
    "        busy3 = w3.stat\n",
    "        C1 = w3.bufferC1\n",
    "        C3 = w3.bufferC3\n",
    "        if not busy3 and (C1>0) and (C3>0):\n",
    "            insert(w3.start_ws('w3', Clock, variable))              #Schedule finishing event\n",
    "            event_list([Clock,'w3','Starting w3'])\n",
    "            if insp1.C1 == 1:\n",
    "                insp1.C1 = 0\n",
    "                insp1.block = 0\n",
    "                w3.bufferC1 += 1\n",
    "            if insp2.C3 == 1:\n",
    "                insp2.C3 = 0\n",
    "                insp2.block = 0\n",
    "                w3.bufferC3 += 1\n",
    "                \n",
    "        #inspector 1                                          #Check if inspector can start new activity\n",
    "        busy1 = insp1.stat\n",
    "        blocked1 = insp1.block\n",
    "        if not busy1 and not blocked1: \n",
    "            insert(insp1.start_ipc('C1', '1', Clock, variable))              #Schedule finishing event\n",
    "            event_list([Clock,'insp1','Starting C1'])\n",
    "        #inspector 2                                          #Check if inspector can start new activity\n",
    "        busy2 = insp2.stat\n",
    "        blocked2 = insp2.block\n",
    "        if not busy2 and not blocked1:\n",
    "            rand = randint(0,1)\n",
    "            if rand == 1:\n",
    "                insert(insp2.start_ipc('C2', '2', Clock, variable))          #Schedule finishing event\n",
    "                event_list([Clock,'insp2','Starting C2'])\n",
    "            else:\n",
    "                insert(insp2.start_ipc('C3', '2', Clock, variable))          #Schedule finishing event\n",
    "                event_list([Clock,'insp2','Starting C3'])\n",
    "        \n",
    "        #Collecting statistics from de entities\n",
    "        insp1.statistics(count,Clock,ClockSS)\n",
    "        insp2.statistics(count,Clock,ClockSS)\n",
    "        insp3.statistics(count,Clock,ClockSS)\n",
    "        w1.statistics(count,Clock,ClockSS)\n",
    "        w2.statistics(count,Clock,ClockSS)\n",
    "        w3.statistics(count,Clock,ClockSS)\n",
    "        \n",
    "        #Reseting the production counters on the beginning of steady-state part\n",
    "        if count == 800:\n",
    "            ClockSS = Clock #Clock at Steady-State\n",
    "            insp1.reset_statistics()\n",
    "            insp2.reset_statistics()\n",
    "            insp3.reset_statistics()\n",
    "            w1.reset_statistics()\n",
    "            w2.reset_statistics()\n",
    "            w3.reset_statistics()\n",
    "            \n",
    "        #Finishing the Simulation\n",
    "        count += 1\n",
    "        if count >= iteration:\n",
    "            break\n",
    "#-------------------------------------------------Statistics------------------------------------    \n",
    "    #Computing the Cumulative Efficiency and Production Rate\n",
    "    W_aver = (np.array(w1.efficiency)+np.array(w1.efficiency)+np.array(w3.efficiency))/3\n",
    "    I_aver = (np.array(insp1.efficiency)+np.array(insp1.efficiency))/2\n",
    "    data1 = {'Inspector 1':insp1.efficiency,\n",
    "            'Inspector 2':insp2.efficiency,\n",
    "            'Inspector 3':insp2.efficiency,\n",
    "            'Workstation 1':w1.efficiency,\n",
    "            'Workstation 2':w2.efficiency,\n",
    "            'Workstation 3':w3.efficiency,\n",
    "            'Inspectors Average':I_aver,\n",
    "            'Workstation Average':W_aver}\n",
    "    ov_ef = pd.DataFrame(data1)\n",
    "    data2 = {'Inspector 1':insp1.Prod_rate,\n",
    "             'Inspector 2':insp2.Prod_rate,\n",
    "             'Inspector 3':insp2.Prod_rate,\n",
    "             'Workstation 1':w1.Prod_rate,\n",
    "             'Workstation 2':w2.Prod_rate,\n",
    "             'Workstation 3':w3.Prod_rate}\n",
    "    prod_rate = pd.DataFrame(data2)\n",
    "    \n",
    "    #Computing the moving average production rate\n",
    "    mov_ave = pd.DataFrame(columns=['Inspector 1',\n",
    "                                    'Inspector 2',\n",
    "                                    'Inspector 3',\n",
    "                                    'Workstation 1',\n",
    "                                    'Workstation 2',\n",
    "                                    'Workstation 3'])\n",
    "    for i in range(50,iteration,1):\n",
    "        is1 = (sum(insp1.Prod_rate[i-50:i])/51)\n",
    "        is2 = (sum(insp2.Prod_rate[i-50:i])/51)\n",
    "        is3 = (sum(insp3.Prod_rate[i-50:i])/51)\n",
    "        ws1 = (sum(w1.Prod_rate[i-50:i])/51)\n",
    "        ws2 = (sum(w2.Prod_rate[i-50:i])/51)\n",
    "        ws3 = (sum(w3.Prod_rate[i-50:i])/51)\n",
    "        mov_ave.loc[i] = [is1,is2,is3,ws1,ws2,ws3]\n",
    "        \n",
    "    #Computing the throughput \n",
    "    throughput = [insp1.Production/(Clock-ClockSS),\n",
    "                  insp2.Production/(Clock-ClockSS),\n",
    "                  insp3.Production/(Clock-ClockSS),\n",
    "                  w1.Production/(Clock-ClockSS),\n",
    "                  w2.Production/(Clock-ClockSS),\n",
    "                  w3.Production/(Clock-ClockSS),0]\n",
    "    throughput[6] = sum(throughput[3:5])    \n",
    "    return ov_ef, prod_rate, mov_ave, throughput"
   ]
  },
  {
   "cell_type": "markdown",
   "metadata": {},
   "source": [
    "## Alternative Design 1"
   ]
  },
  {
   "cell_type": "markdown",
   "metadata": {},
   "source": [
    "Inspector 2 works with C1 with priority to deliver to Workstation 3 and then to Workstation 2. However, Inspector 2 will not produce C2 anymore. And then, Inspector 1 will produce C2 instead."
   ]
  },
  {
   "cell_type": "markdown",
   "metadata": {},
   "source": [
    "First Alternative: Inspector 1 producing C2 and Inspector 2 producing C1 but not C2.\n",
    "The changes are only on the loop. \n",
    "\n",
    "•\tEvents added on the part Executing Events: ‘Insp1 Finishing C2’ and changing ‘Insp2 finishing C2’ for ‘Insp2 finishing C1’. Inside the event ‘Insp2 finishing C1’ the delivery order should be first to w3.bufferC1, second to w2.bufferC1 and finally w1.bufferC1. \n",
    "\n",
    "•\tTo start a new task on Inspector 1, it should generate a random binary number to decide with component to inspect, C1 or C2.\n",
    "\n",
    "•\tTo start a new task on Inspector 2, it should change C2 by C1.\n"
   ]
  },
  {
   "cell_type": "code",
   "execution_count": 317,
   "metadata": {},
   "outputs": [],
   "source": [
    "def loop_AD_1():\n",
    "    global Clock,ClockSS,iteration,count,event,queue,Events,w1,w2,w3,insp1,insp2,ov_eff,variable\n",
    "    \n",
    "    while True: \n",
    "        #Getting a new event from the list\n",
    "        if queue.size:             #Check if is not empty\n",
    "            event = next_event()\n",
    "            Clock = event[0]           #Updating Clock\n",
    "        #Executing Change of states triggered by the event\n",
    "        if event[2] == 'Finish C1' and event[1] == 'insp1':\n",
    "            insp1.end_ipc(Clock)\n",
    "            event_list([Clock, event[1], event[2]])\n",
    "            if w1.bufferC1 <= w2.bufferC1 and w1.bufferC1 <= w3.bufferC1 and w1.bufferC1 < 2:\n",
    "                w1.bufferC1 += 1\n",
    "            elif w2.bufferC1 <= w3.bufferC1 and w2.bufferC1 < 2:\n",
    "                w2.bufferC1 += 1\n",
    "            elif w3.bufferC1 < 2:\n",
    "                w3.bufferC1 += 1\n",
    "            else:\n",
    "                insp1.block = 1\n",
    "                insp1.C1 = 1\n",
    "        if event[2] == 'Finish C2':\n",
    "            insp1.end_ipc(Clock)\n",
    "            event_list([Clock, event[1], event[2]])\n",
    "            if w2.bufferC2 < 2:\n",
    "                w2.bufferC2 += 1\n",
    "            else:\n",
    "                insp1.block = 1\n",
    "                insp1.C2 = 1\n",
    "        if event[2] == 'Finish C1' and event[1] == 'insp2':\n",
    "            insp2.end_ipc(Clock)\n",
    "            event_list([Clock, event[1], event[2]])\n",
    "            if w3.bufferC1 <= w2.bufferC1 and w3.bufferC1 <= w1.bufferC1 and w3.bufferC1 < 2:\n",
    "                w3.bufferC1 += 1\n",
    "            elif w2.bufferC1 <= w1.bufferC1 and w2.bufferC1 < 2:\n",
    "                w2.bufferC1 += 1\n",
    "            elif w1.bufferC1 < 2:\n",
    "                w1.bufferC1 += 1\n",
    "            else:\n",
    "                insp2.block = 1\n",
    "                insp2.C1 = 1        \n",
    "        if event[2] == 'Finish C3':\n",
    "            insp2.end_ipc(Clock)\n",
    "            event_list([Clock, event[1], event[2]])\n",
    "            if w3.bufferC3 < 2:\n",
    "                w3.bufferC3 += 1\n",
    "            else:\n",
    "                insp2.block = 1\n",
    "                insp2.C3 = 1\n",
    "        if event[2] == 'Finish w1':\n",
    "            w1.end_ws(Clock)\n",
    "            event_list([Clock, event[1], event[2]])\n",
    "        if event[2] == 'Finish w2':\n",
    "            w2.end_ws(Clock)\n",
    "            event_list([Clock, event[1], event[2]])\n",
    "        if event[2] == 'Finish w3':\n",
    "            w3.end_ws(Clock)\n",
    "            event_list([Clock, event[1], event[2]])\n",
    "\n",
    "        #Check for system status and initialyse activities if possible\n",
    "        #Workstation 1 -----------------------------------------Check if workstation can start new activity\n",
    "        busy1 = w1.stat\n",
    "        C1 = w1.bufferC1\n",
    "        if not busy1 and (C1>0):\n",
    "            insert(w1.start_ws('w1', Clock, variable))              #Schedule finishing event\n",
    "            event_list([Clock,'w1','Starting w1'])\n",
    "            #Unblock Inspectors\n",
    "            if insp1.C1 == 1:\n",
    "                insp1.C1 = 0\n",
    "                insp1.block = 0\n",
    "                w1.bufferC1 += 1\n",
    "            elif insp2.C1 == 1:\n",
    "                insp2.C1 = 0\n",
    "                insp2.block = 0\n",
    "                w1.bufferC1 += 1\n",
    "        #Workstation 2 -----------------------------------------Check if workstation can start new activity\n",
    "        busy2 = w2.stat\n",
    "        C1 = w2.bufferC1\n",
    "        C2 = w2.bufferC2\n",
    "        if not busy2 and (C1>0) and (C2>0):\n",
    "            insert(w2.start_ws('w2', Clock, variable))              #Schedule finishing event\n",
    "            event_list([Clock,'w2','Starting w2'])\n",
    "            #Unblock Inspectors\n",
    "            if insp1.C1 == 1:\n",
    "                insp1.C1 = 0\n",
    "                insp1.block = 0\n",
    "                w2.bufferC1 += 1\n",
    "            elif insp2.C1 == 1:\n",
    "                insp2.C1 = 0\n",
    "                insp2.block = 0\n",
    "                w2.bufferC1 += 1\n",
    "            if insp1.C2 == 1:\n",
    "                insp1.C2 = 0\n",
    "                insp1.block = 0\n",
    "                w2.bufferC2 += 1\n",
    "        #Workstation 3 -----------------------------------------Check if workstation can start new activity\n",
    "        busy3 = w3.stat\n",
    "        C1 = w3.bufferC1\n",
    "        C3 = w3.bufferC3\n",
    "        if not busy3 and (C1>0) and (C3>0):\n",
    "            insert(w3.start_ws('w3', Clock, variable))              #Schedule finishing event\n",
    "            event_list([Clock,'w3','Starting w3'])\n",
    "            #Unblock Inspectors\n",
    "            if insp1.C1 == 1:\n",
    "                insp1.C1 = 0\n",
    "                insp1.block = 0\n",
    "                w3.bufferC1 += 1\n",
    "            elif insp2.C1 == 1:\n",
    "                insp2.C1 = 0\n",
    "                insp2.block = 0\n",
    "                w3.bufferC1 += 1\n",
    "            if insp2.C3 == 1:\n",
    "                insp2.C3 = 0\n",
    "                insp2.block = 0\n",
    "                w3.bufferC3 += 1\n",
    "\n",
    "        #inspector 1                                          #Check if inspector can start new activity\n",
    "        busy1 = insp1.stat\n",
    "        blocked1 = insp1.block\n",
    "        if not busy1 and not blocked1: \n",
    "            rand = randint(0,1)\n",
    "            if rand == 1 or w2.bufferC2 == 2:\n",
    "                insert(insp1.start_ipc('C1', '1', Clock, variable))              #Schedule finishing event\n",
    "                event_list([Clock,'insp1','Starting C1'])\n",
    "            else:\n",
    "                insert(insp1.start_ipc('C2', '1', Clock, variable))          #Schedule finishing event\n",
    "                event_list([Clock,'insp1','Starting C2'])\n",
    "        #inspector 2                                          #Check if inspector can start new activity\n",
    "        if not insp2.stat and not insp2.block:\n",
    "            rand = randint(0,1)\n",
    "            if rand == 1 or w3.bufferC3 == 2:\n",
    "                insert(insp2.start_ipc('C1', '2', Clock, variable))          #Schedule finishing event\n",
    "                event_list([Clock,'insp2','Starting C1'])\n",
    "            else:\n",
    "                insert(insp2.start_ipc('C3', '2', Clock, variable))          #Schedule finishing event\n",
    "                event_list([Clock,'insp2','Starting C3'])\n",
    "\n",
    "        #Collecting statistics from de entities\n",
    "        insp1.statistics(count,Clock,ClockSS)\n",
    "        insp2.statistics(count,Clock,ClockSS)\n",
    "        insp3.statistics(count,Clock,ClockSS)\n",
    "        w1.statistics(count,Clock,ClockSS)\n",
    "        w2.statistics(count,Clock,ClockSS)\n",
    "        w3.statistics(count,Clock,ClockSS)\n",
    "        \n",
    "        #Reseting the production counters on the beginning of steady-state part\n",
    "        if count == 800:\n",
    "            ClockSS = Clock #Clock at Steady-State\n",
    "            insp1.reset_statistics()\n",
    "            insp2.reset_statistics()\n",
    "            insp3.reset_statistics()\n",
    "            w1.reset_statistics()\n",
    "            w2.reset_statistics()\n",
    "            w3.reset_statistics()\n",
    "            \n",
    "        #Finishing the Simulation\n",
    "        count += 1\n",
    "        if count >= iteration:\n",
    "            break\n",
    "#-------------------------------------------------Statistics------------------------------------    \n",
    "    #Computing the Cumulative Efficiency and Production Rate\n",
    "    W_aver = (np.array(w1.efficiency)+np.array(w1.efficiency)+np.array(w3.efficiency))/3\n",
    "    I_aver = (np.array(insp1.efficiency)+np.array(insp1.efficiency))/2\n",
    "    data1 = {'Inspector 1':insp1.efficiency,\n",
    "            'Inspector 2':insp2.efficiency,\n",
    "            'Inspector 3':insp2.efficiency,\n",
    "            'Workstation 1':w1.efficiency,\n",
    "            'Workstation 2':w2.efficiency,\n",
    "            'Workstation 3':w3.efficiency,\n",
    "            'Inspectors Average':I_aver,\n",
    "            'Workstation Average':W_aver}\n",
    "    ov_ef = pd.DataFrame(data1)\n",
    "    data2 = {'Inspector 1':insp1.Prod_rate,\n",
    "             'Inspector 2':insp2.Prod_rate,\n",
    "             'Inspector 3':insp2.Prod_rate,\n",
    "             'Workstation 1':w1.Prod_rate,\n",
    "             'Workstation 2':w2.Prod_rate,\n",
    "             'Workstation 3':w3.Prod_rate}\n",
    "    prod_rate = pd.DataFrame(data2)\n",
    "    \n",
    "    #Computing the moving average production rate\n",
    "    mov_ave = pd.DataFrame(columns=['Inspector 1',\n",
    "                                    'Inspector 2',\n",
    "                                    'Inspector 3',\n",
    "                                    'Workstation 1',\n",
    "                                    'Workstation 2',\n",
    "                                    'Workstation 3'])\n",
    "    for i in range(50,iteration,1):\n",
    "        is1 = (sum(insp1.Prod_rate[i-50:i])/51)\n",
    "        is2 = (sum(insp2.Prod_rate[i-50:i])/51)\n",
    "        is3 = (sum(insp3.Prod_rate[i-50:i])/51)\n",
    "        ws1 = (sum(w1.Prod_rate[i-50:i])/51)\n",
    "        ws2 = (sum(w2.Prod_rate[i-50:i])/51)\n",
    "        ws3 = (sum(w3.Prod_rate[i-50:i])/51)\n",
    "        mov_ave.loc[i] = [is1,is2,is3,ws1,ws2,ws3]\n",
    "        \n",
    "    #Computing the throughput \n",
    "    throughput = [insp1.Production/(Clock-ClockSS),\n",
    "                  insp2.Production/(Clock-ClockSS),\n",
    "                  insp3.Production/(Clock-ClockSS),\n",
    "                  w1.Production/(Clock-ClockSS),\n",
    "                  w2.Production/(Clock-ClockSS),\n",
    "                  w3.Production/(Clock-ClockSS),0]\n",
    "    throughput[6] = sum(throughput[3:5])    \n",
    "    return ov_ef, prod_rate, mov_ave, throughput"
   ]
  },
  {
   "cell_type": "markdown",
   "metadata": {},
   "source": [
    "## Alternative Design 2"
   ]
  },
  {
   "cell_type": "markdown",
   "metadata": {},
   "source": [
    "The second alternative is to hire a new inspector, the Inspector 3 will work producing C1 with delivery priority to W3 and W2, without changes on the others inspectors."
   ]
  },
  {
   "cell_type": "markdown",
   "metadata": {},
   "source": [
    "The changes are on the initialization and loop part.\n",
    "\n",
    "•\tBuild an object insp3 of type inspector on the initialization.\n",
    "\n",
    "•\tAdd event ‘insp3 finishing C1’ in the same way of insp1 but delivering first to w3, second to w2 and then to w1.\n",
    "\n",
    "•\tAdd a check in buffer status to unblock insp3 whenever there is free spot on any buffer C1."
   ]
  },
  {
   "cell_type": "code",
   "execution_count": 318,
   "metadata": {},
   "outputs": [],
   "source": [
    "def loop_AD_2():\n",
    "    global Clock,ClockSS,iteration,count,event,queue,Events,w1,w2,w3,insp1,insp2,insp3,ov_eff,variable\n",
    "    \n",
    "    while True: \n",
    "        #Getting a new event from the list\n",
    "        if queue.size:             #Check if is not empty\n",
    "            event = next_event()\n",
    "            Clock = event[0]           #Updating Clock\n",
    "        #Executing Change of states triggered by the event\n",
    "        if event[2] == 'Finish C1' and event[1] == 'insp1':\n",
    "            insp1.end_ipc(Clock)\n",
    "            event_list([Clock, event[1], event[2]])\n",
    "            if w1.bufferC1 <= w2.bufferC1 and w1.bufferC1 <= w3.bufferC1 and w1.bufferC1 < 2:\n",
    "                w1.bufferC1 += 1\n",
    "            elif w2.bufferC1 <= w3.bufferC1 and w2.bufferC1 < 2:\n",
    "                w2.bufferC1 += 1\n",
    "            elif w3.bufferC1 < 2:\n",
    "                w3.bufferC1 += 1\n",
    "            else:\n",
    "                insp1.block = 1\n",
    "                insp1.C1 = 1\n",
    "        if event[2] == 'Finish C2':\n",
    "            insp2.end_ipc(Clock)\n",
    "            event_list([Clock, event[1], event[2]])\n",
    "            if w2.bufferC2 < 2:\n",
    "                w2.bufferC2 += 1\n",
    "            else:\n",
    "                insp2.block = 1\n",
    "                insp2.C2 = 1       \n",
    "        if event[2] == 'Finish C3':\n",
    "            insp2.end_ipc(Clock)\n",
    "            event_list([Clock, event[1], event[2]])\n",
    "            if w3.bufferC3 < 2:\n",
    "                w3.bufferC3 += 1\n",
    "            else:\n",
    "                insp2.block = 1\n",
    "                insp2.C3 = 1\n",
    "        if event[2] == 'Finish C1' and event[1] == 'insp3':\n",
    "            insp3.end_ipc(Clock)\n",
    "            event_list([Clock, event[1], event[2]])\n",
    "            if w3.bufferC1 <= w2.bufferC1 and w3.bufferC1 <= w1.bufferC1 and w3.bufferC1 < 2:\n",
    "                w3.bufferC1 += 1\n",
    "            elif w2.bufferC1 <= w1.bufferC1 and w2.bufferC1 < 2:\n",
    "                w2.bufferC1 += 1\n",
    "            elif w1.bufferC1 < 2:\n",
    "                w1.bufferC1 += 1\n",
    "            else:\n",
    "                insp3.block = 1\n",
    "                insp3.C1 = 1 \n",
    "        if event[2] == 'Finish w1':\n",
    "            w1.end_ws(Clock)\n",
    "            event_list([Clock, event[1], event[2]])\n",
    "        if event[2] == 'Finish w2':\n",
    "            w2.end_ws(Clock)\n",
    "            event_list([Clock, event[1], event[2]])\n",
    "        if event[2] == 'Finish w3':\n",
    "            w3.end_ws(Clock)\n",
    "            event_list([Clock, event[1], event[2]])\n",
    "\n",
    "        #Check for system status and initialyse activities if possible\n",
    "        #Workstation 1 -----------------------------------------Check if workstation can start new activity\n",
    "        busy1 = w1.stat\n",
    "        C1 = w1.bufferC1\n",
    "        if not busy1 and (C1>0):\n",
    "            insert(w1.start_ws('w1', Clock, variable))              #Schedule finishing event\n",
    "            event_list([Clock,'w1','Starting w1'])\n",
    "            #Unblock Inspectors\n",
    "            if insp1.C1 == 1:\n",
    "                insp1.C1 = 0\n",
    "                insp1.block = 0\n",
    "                w1.bufferC1 += 1\n",
    "            elif insp3.C1 == 1:\n",
    "                insp3.C1 = 0\n",
    "                insp3.block = 0\n",
    "                w1.bufferC1 += 1\n",
    "        #Workstation 2 -----------------------------------------Check if workstation can start new activity\n",
    "        busy2 = w2.stat\n",
    "        C1 = w2.bufferC1\n",
    "        C2 = w2.bufferC2\n",
    "        if not busy2 and (C1>0) and (C2>0):\n",
    "            insert(w2.start_ws('w2', Clock, variable))              #Schedule finishing event\n",
    "            event_list([Clock,'w2','Starting w2'])\n",
    "            #Unblock Inspectors\n",
    "            if insp1.C1 == 1:\n",
    "                insp1.C1 = 0\n",
    "                insp1.block = 0\n",
    "                w2.bufferC1 += 1\n",
    "            elif insp3.C1 == 1:\n",
    "                insp3.C1 = 0\n",
    "                insp3.block = 0\n",
    "                w2.bufferC1 += 1\n",
    "            if insp2.C2 == 1:\n",
    "                insp2.C2 = 0\n",
    "                insp2.block = 0\n",
    "                w2.bufferC2 += 1\n",
    "        #Workstation 3 -----------------------------------------Check if workstation can start new activity\n",
    "        busy3 = w3.stat\n",
    "        C1 = w3.bufferC1\n",
    "        C3 = w3.bufferC3\n",
    "        if not busy3 and (C1>0) and (C3>0):\n",
    "            insert(w3.start_ws('w3', Clock, variable))              #Schedule finishing event\n",
    "            event_list([Clock,'w3','Starting w3'])\n",
    "            #Unblock Inspectors\n",
    "            if insp1.C1 == 1:\n",
    "                insp1.C1 = 0\n",
    "                insp1.block = 0\n",
    "                w3.bufferC1 += 1\n",
    "            elif insp3.C1 == 1:\n",
    "                insp3.C1 = 0\n",
    "                insp3.block = 0\n",
    "                w3.bufferC1 += 1\n",
    "            if insp2.C3 == 1:\n",
    "                insp2.C3 = 0\n",
    "                insp2.block = 0\n",
    "                w3.bufferC3 += 1\n",
    "\n",
    "        #inspector 1                                          #Check if inspector can start new activity\n",
    "        busy1 = insp1.stat\n",
    "        blocked1 = insp1.block\n",
    "        if not busy1 and not blocked1:\n",
    "            insert(insp1.start_ipc('C1', '1', Clock, variable))               #Schedule finishing event\n",
    "            event_list([Clock,'insp1','Starting C1'])\n",
    "\n",
    "        #inspector 2                                          #Check if inspector can start new activity\n",
    "        if not insp2.stat and not insp2.block:\n",
    "            rand = randint(0,1)\n",
    "            if rand == 1 or w3.bufferC3 == 2:\n",
    "                insert(insp2.start_ipc('C2', '2', Clock, variable))           #Schedule finishing event\n",
    "                event_list([Clock,'insp2','Starting C2'])\n",
    "            else:\n",
    "                insert(insp2.start_ipc('C3', '2', Clock, variable))         #Schedule finishing event\n",
    "                event_list([Clock,'insp2','Starting C3'])\n",
    "                \n",
    "        #inspector 3                                          #Check if inspector can start new activity\n",
    "        busy3 = insp3.stat\n",
    "        blocked3 = insp3.block\n",
    "        if not busy3 and not blocked3:\n",
    "            insert(insp3.start_ipc('C1', '3', Clock, variable))              #Schedule finishing event\n",
    "            event_list([Clock,'insp3','Starting C1'])\n",
    "\n",
    "        #Collecting statistics from de entities\n",
    "        insp1.statistics(count,Clock,ClockSS)\n",
    "        insp2.statistics(count,Clock,ClockSS)\n",
    "        insp3.statistics(count,Clock,ClockSS)\n",
    "        w1.statistics(count,Clock,ClockSS)\n",
    "        w2.statistics(count,Clock,ClockSS)\n",
    "        w3.statistics(count,Clock,ClockSS)\n",
    "        \n",
    "        #Reseting the production counters on the beginning of steady-state part\n",
    "        if count == 800:\n",
    "            ClockSS = Clock #Clock at Steady-State\n",
    "            insp1.reset_statistics()\n",
    "            insp2.reset_statistics()\n",
    "            insp3.reset_statistics()\n",
    "            w1.reset_statistics()\n",
    "            w2.reset_statistics()\n",
    "            w3.reset_statistics()\n",
    "            \n",
    "        #Finishing the Simulation\n",
    "        count += 1\n",
    "        if count >= iteration:\n",
    "            break\n",
    "#-------------------------------------------------Statistics------------------------------------    \n",
    "    #Computing the Cumulative Efficiency and Production Rate\n",
    "    W_aver = (np.array(w1.efficiency)+np.array(w1.efficiency)+np.array(w3.efficiency))/3\n",
    "    I_aver = (np.array(insp1.efficiency)+np.array(insp1.efficiency))/2\n",
    "    data1 = {'Inspector 1':insp1.efficiency,\n",
    "            'Inspector 2':insp2.efficiency,\n",
    "            'Inspector 3':insp2.efficiency,\n",
    "            'Workstation 1':w1.efficiency,\n",
    "            'Workstation 2':w2.efficiency,\n",
    "            'Workstation 3':w3.efficiency,\n",
    "            'Inspectors Average':I_aver,\n",
    "            'Workstation Average':W_aver}\n",
    "    ov_ef = pd.DataFrame(data1)\n",
    "    data2 = {'Inspector 1':insp1.Prod_rate,\n",
    "             'Inspector 2':insp2.Prod_rate,\n",
    "             'Inspector 3':insp2.Prod_rate,\n",
    "             'Workstation 1':w1.Prod_rate,\n",
    "             'Workstation 2':w2.Prod_rate,\n",
    "             'Workstation 3':w3.Prod_rate}\n",
    "    prod_rate = pd.DataFrame(data2)\n",
    "    \n",
    "    #Computing the moving average production rate\n",
    "    mov_ave = pd.DataFrame(columns=['Inspector 1',\n",
    "                                    'Inspector 2',\n",
    "                                    'Inspector 3',\n",
    "                                    'Workstation 1',\n",
    "                                    'Workstation 2',\n",
    "                                    'Workstation 3'])\n",
    "    for i in range(50,iteration,1):\n",
    "        is1 = (sum(insp1.Prod_rate[i-50:i])/51)\n",
    "        is2 = (sum(insp2.Prod_rate[i-50:i])/51)\n",
    "        is3 = (sum(insp3.Prod_rate[i-50:i])/51)\n",
    "        ws1 = (sum(w1.Prod_rate[i-50:i])/51)\n",
    "        ws2 = (sum(w2.Prod_rate[i-50:i])/51)\n",
    "        ws3 = (sum(w3.Prod_rate[i-50:i])/51)\n",
    "        mov_ave.loc[i] = [is1,is2,is3,ws1,ws2,ws3]\n",
    "        \n",
    "    #Computing the throughput \n",
    "    throughput = [insp1.Production/(Clock-ClockSS),\n",
    "                  insp2.Production/(Clock-ClockSS),\n",
    "                  insp3.Production/(Clock-ClockSS),\n",
    "                  w1.Production/(Clock-ClockSS),\n",
    "                  w2.Production/(Clock-ClockSS),\n",
    "                  w3.Production/(Clock-ClockSS),0]\n",
    "    throughput[6] = sum(throughput[3:5])    \n",
    "    return ov_ef, prod_rate, mov_ave, throughput"
   ]
  },
  {
   "cell_type": "markdown",
   "metadata": {},
   "source": [
    "## Control Loop"
   ]
  },
  {
   "cell_type": "markdown",
   "metadata": {},
   "source": [
    "This control loop is created to call the realizations of the model in 'i' times. And then, to store the datasets of the results. "
   ]
  },
  {
   "cell_type": "code",
   "execution_count": 192,
   "metadata": {},
   "outputs": [
    {
     "name": "stdout",
     "output_type": "stream",
     "text": [
      "0\n",
      "1\n",
      "2\n",
      "3\n",
      "4\n",
      "5\n",
      "6\n",
      "7\n",
      "8\n",
      "9\n",
      "10\n",
      "11\n",
      "12\n",
      "13\n",
      "14\n",
      "15\n",
      "16\n",
      "17\n",
      "18\n",
      "19\n",
      "20\n",
      "21\n",
      "22\n",
      "23\n",
      "24\n"
     ]
    }
   ],
   "source": [
    "col1 = ['Inspector 1',\n",
    "        'Inspector 2',\n",
    "        'Inspector 3',\n",
    "        'Workstation 1',\n",
    "        'Workstation 2',\n",
    "        'Workstation 3',\n",
    "        'Inspectors Average',\n",
    "        'Workstation Average']\n",
    "col2 = ['Inspector 1',\n",
    "        'Inspector 2',\n",
    "        'Inspector 3',\n",
    "        'Workstation 1',\n",
    "        'Workstation 2',\n",
    "        'Workstation 3']\n",
    "col3 = ['Inspector 1',\n",
    "        'Inspector 2',\n",
    "        'Inspector 3',\n",
    "        'Workstation 1',\n",
    "        'Workstation 2',\n",
    "        'Workstation 3',\n",
    "        'Total']\n",
    "ans = pd.DataFrame(columns=col1)\n",
    "ans1 = pd.DataFrame(columns=col1)\n",
    "ans2 = pd.DataFrame(columns=col1)\n",
    "Comp_rate = pd.DataFrame(columns=col2)\n",
    "Comp_rate1 = pd.DataFrame(columns=col2)\n",
    "Comp_rate2 = pd.DataFrame(columns=col2)\n",
    "Throughput = pd.DataFrame(columns=col3)\n",
    "Throughput1 = pd.DataFrame(columns=col3)\n",
    "Throughput2 = pd.DataFrame(columns=col3)\n",
    "\n",
    "ite = 1800\n",
    "\n",
    "for i in range(25):\n",
    "    variable = var_gen(1000)\n",
    "    initialization(ite)\n",
    "    ov_ef, prod_rate, move, throughput = loop()\n",
    "    initialization(ite)\n",
    "    ov_ef1, prod_rate1, move1, throughput1 = loop_AD_1()\n",
    "    initialization(ite)\n",
    "    ov_ef2, prod_rate2, move2, throughput2 = loop_AD_2()\n",
    "    ans.loc[i] = ov_ef.iloc[ite-1]  # Overall Effectiveness\n",
    "    ans1.loc[i] = ov_ef1.iloc[ite-1]  # Overall Effectiveness\n",
    "    ans2.loc[i] = ov_ef2.iloc[ite-1]  # Overall Effectiveness        \n",
    "\n",
    "    Comp_rate.loc[i] = prod_rate.iloc[ite-1] #Production rate, considering only the busy time.\n",
    "    \n",
    "    Throughput.loc[i] = throughput  #Production rate, considering the total time\n",
    "    Throughput.loc[i] = Throughput.loc[i]*60 #Throughput per hour\n",
    "    Throughput1.loc[i] = throughput1  #Production rate, considering the total time\n",
    "    Throughput1.loc[i] = Throughput1.loc[i]*60 #Throughput per hour\n",
    "    Throughput2.loc[i] = throughput2  #Production rate, considering the total time\n",
    "    Throughput2.loc[i] = Throughput2.loc[i]*60 #Throughput per hour\n",
    "    print(i)"
   ]
  },
  {
   "cell_type": "code",
   "execution_count": 216,
   "metadata": {},
   "outputs": [],
   "source": [
    "ov_ef1.drop('Inspector 3', axis=1, inplace = True)\n",
    "ov_ef1.drop('Inspector 3', axis=1, inplace = True)"
   ]
  },
  {
   "cell_type": "markdown",
   "metadata": {},
   "source": [
    "# Results"
   ]
  },
  {
   "cell_type": "markdown",
   "metadata": {},
   "source": [
    "Overall Effectiveness"
   ]
  },
  {
   "cell_type": "code",
   "execution_count": 245,
   "metadata": {},
   "outputs": [],
   "source": [
    "result = pd.DataFrame()\n",
    "result['Scenario 0'] = np.mean(ans, axis=0)\n",
    "result['Scenario 1'] = np.mean(ans1, axis=0)\n",
    "result['Scenario 2'] = np.mean(ans2, axis=0)"
   ]
  },
  {
   "cell_type": "code",
   "execution_count": 228,
   "metadata": {},
   "outputs": [],
   "source": [
    "import csv"
   ]
  },
  {
   "cell_type": "code",
   "execution_count": 251,
   "metadata": {},
   "outputs": [],
   "source": [
    "result.to_csv('Results.csv', encoding='utf-8')"
   ]
  },
  {
   "cell_type": "markdown",
   "metadata": {},
   "source": [
    "Throughput and its standard deviation and mean value. \n",
    "To computing the Confidence Interval"
   ]
  },
  {
   "cell_type": "markdown",
   "metadata": {},
   "source": [
    "### Computing Standard deviation and Mean Value"
   ]
  },
  {
   "cell_type": "code",
   "execution_count": 253,
   "metadata": {},
   "outputs": [],
   "source": [
    "S = np.std(Throughput, axis=0)\n",
    "S1 = np.std(Throughput1, axis=0)\n",
    "S2 = np.std(Throughput2, axis=0)"
   ]
  },
  {
   "cell_type": "code",
   "execution_count": 254,
   "metadata": {},
   "outputs": [],
   "source": [
    "miu = np.mean(Throughput, axis=0)\n",
    "miu1 = np.mean(Throughput1, axis=0)\n",
    "miu2 = np.mean(Throughput2, axis=0)"
   ]
  },
  {
   "cell_type": "code",
   "execution_count": 266,
   "metadata": {},
   "outputs": [],
   "source": [
    "S.drop(['Inspector 1','Inspector 2','Inspector 3'], axis=0, inplace=True)\n",
    "S1.drop(['Inspector 1','Inspector 2','Inspector 3'], axis=0, inplace=True)\n",
    "S2.drop(['Inspector 1','Inspector 2','Inspector 3'], axis=0, inplace=True)"
   ]
  },
  {
   "cell_type": "code",
   "execution_count": 269,
   "metadata": {},
   "outputs": [],
   "source": [
    "miu.drop(['Inspector 1','Inspector 2','Inspector 3'], axis=0, inplace=True)\n",
    "miu1.drop(['Inspector 1','Inspector 2','Inspector 3'], axis=0, inplace=True)\n",
    "miu2.drop(['Inspector 1','Inspector 2','Inspector 3'], axis=0, inplace=True)"
   ]
  },
  {
   "cell_type": "markdown",
   "metadata": {},
   "source": [
    "### Confidence Interval"
   ]
  },
  {
   "cell_type": "markdown",
   "metadata": {},
   "source": [
    "Upper Bound"
   ]
  },
  {
   "cell_type": "code",
   "execution_count": 310,
   "metadata": {},
   "outputs": [],
   "source": [
    "ub = (1.705*S)/5 + miu\n",
    "ub1 = (1.705*S1)/5 + miu1\n",
    "ub2 = (1.705*S2)/5 + miu2"
   ]
  },
  {
   "cell_type": "markdown",
   "metadata": {},
   "source": [
    "Lower Bound"
   ]
  },
  {
   "cell_type": "code",
   "execution_count": 311,
   "metadata": {},
   "outputs": [],
   "source": [
    "lb = (-1.705*S)/5 + miu\n",
    "lb1 = (-1.705*S1)/5 + miu1\n",
    "lb2 = (-1.705*S2)/5 + miu2"
   ]
  },
  {
   "cell_type": "markdown",
   "metadata": {},
   "source": [
    "### Formating the results"
   ]
  },
  {
   "cell_type": "code",
   "execution_count": 292,
   "metadata": {},
   "outputs": [],
   "source": [
    "column_results = ['Lower Bound','Mean','Upper Bound','St Deviation']\n",
    "index_result = ['Scenario 0','Scenario 1','Scenario 2']"
   ]
  },
  {
   "cell_type": "code",
   "execution_count": 313,
   "metadata": {},
   "outputs": [],
   "source": [
    "Work = pd.DataFrame(columns = column_results, index=index_result)\n",
    "for k in range(4):\n",
    "    Work.loc[index_result[0]] = [lb[k],miu[k],ub[k],S[k]]\n",
    "    Work.loc[index_result[1]] = [lb1[k],miu1[k],ub1[k],S1[k]]\n",
    "    Work.loc[index_result[2]] = [lb2[k],miu2[k],ub2[k],S2[k]]\n",
    "    file = 'Workstation'+str(k)+'.csv'\n",
    "    Work.to_csv(file, encoding='utf-8')"
   ]
  },
  {
   "cell_type": "markdown",
   "metadata": {},
   "source": [
    "## This results is to evaluate the Little`s Law"
   ]
  },
  {
   "cell_type": "markdown",
   "metadata": {},
   "source": [
    "#### Time per Production"
   ]
  },
  {
   "cell_type": "code",
   "execution_count": 201,
   "metadata": {},
   "outputs": [
    {
     "name": "stdout",
     "output_type": "stream",
     "text": [
      "inspector 1: 11.76831529459711\n",
      "inspector 2: 13.56476646918656\n",
      "workstation 1: 5.197499795238548\n",
      "workstation 2: 6.270778153562117\n",
      "workstation 3: 3.917281259346626\n"
     ]
    }
   ],
   "source": [
    "print('inspector 1:',insp1.work_time/insp1.Production)\n",
    "print('inspector 2:',insp2.work_time/insp2.Production)\n",
    "print('workstation 1:',w1.work_time/w1.Production)\n",
    "print('workstation 2:',w2.work_time/w2.Production)\n",
    "print('workstation 3:',w3.work_time/w3.Production)"
   ]
  },
  {
   "cell_type": "markdown",
   "metadata": {},
   "source": [
    "#### Production per hour"
   ]
  },
  {
   "cell_type": "code",
   "execution_count": 202,
   "metadata": {},
   "outputs": [
    {
     "name": "stdout",
     "output_type": "stream",
     "text": [
      "inspector 1: 5.098435799688873\n",
      "inspector : 4.42322395570132\n",
      "workstation 1: 11.54401199880109\n",
      "workstation 2: 9.568190506933655\n",
      "workstation 3: 15.31674547413212\n"
     ]
    }
   ],
   "source": [
    "print('inspector 1:',(insp1.Production/insp1.work_time)*60)\n",
    "print('inspector :',(insp2.Production/insp2.work_time)*60)\n",
    "print('workstation 1:',(w1.Production/w1.work_time)*60)\n",
    "print('workstation 2:',(w2.Production/w2.work_time)*60)\n",
    "print('workstation 3:',(w3.Production/w3.work_time)*60)"
   ]
  },
  {
   "cell_type": "markdown",
   "metadata": {},
   "source": [
    "### Plotting the results"
   ]
  },
  {
   "cell_type": "code",
   "execution_count": 203,
   "metadata": {},
   "outputs": [],
   "source": [
    "%matplotlib inline \n",
    "import matplotlib as mpl\n",
    "import matplotlib.pyplot as plt"
   ]
  },
  {
   "cell_type": "code",
   "execution_count": 219,
   "metadata": {},
   "outputs": [
    {
     "data": {
      "text/plain": [
       "<matplotlib.axes._subplots.AxesSubplot at 0x1ddcfc1c1d0>"
      ]
     },
     "execution_count": 219,
     "metadata": {},
     "output_type": "execute_result"
    },
    {
     "data": {
      "image/png": "[encoded data removed]",
      "text/plain": [
       "<Figure size 432x288 with 1 Axes>"
      ]
     },
     "metadata": {
      "needs_background": "light"
     },
     "output_type": "display_data"
    }
   ],
   "source": [
    "ov_ef1.loc[1000:1800].plot()"
   ]
  },
  {
   "cell_type": "code",
   "execution_count": 205,
   "metadata": {},
   "outputs": [
    {
     "data": {
      "text/plain": [
       "<matplotlib.axes._subplots.AxesSubplot at 0x1ddcf69f7f0>"
      ]
     },
     "execution_count": 205,
     "metadata": {},
     "output_type": "execute_result"
    },
    {
     "data": {
      "image/png": "[encoded data removed]",
      "text/plain": [
       "<Figure size 432x288 with 1 Axes>"
      ]
     },
     "metadata": {
      "needs_background": "light"
     },
     "output_type": "display_data"
    }
   ],
   "source": [
    "prod_rate.plot()"
   ]
  },
  {
   "cell_type": "code",
   "execution_count": 206,
   "metadata": {},
   "outputs": [
    {
     "data": {
      "text/plain": [
       "<matplotlib.axes._subplots.AxesSubplot at 0x1ddcf7f07f0>"
      ]
     },
     "execution_count": 206,
     "metadata": {},
     "output_type": "execute_result"
    },
    {
     "data": {
      "image/png": "[encoded data removed]",
      "text/plain": [
       "<Figure size 432x288 with 1 Axes>"
      ]
     },
     "metadata": {
      "needs_background": "light"
     },
     "output_type": "display_data"
    }
   ],
   "source": [
    "move.plot()"
   ]
  },
  {
   "cell_type": "code",
   "execution_count": null,
   "metadata": {},
   "outputs": [],
   "source": []
  }
 ],
 "metadata": {
  "kernelspec": {
   "display_name": "Python 3",
   "language": "python",
   "name": "python3"
  },
  "language_info": {
   "codemirror_mode": {
    "name": "ipython",
    "version": 3
   },
   "file_extension": ".py",
   "mimetype": "text/x-python",
   "name": "python",
   "nbconvert_exporter": "python",
   "pygments_lexer": "ipython3",
   "version": "3.7.0"
  }
 },
 "nbformat": 4,
 "nbformat_minor": 2
}
