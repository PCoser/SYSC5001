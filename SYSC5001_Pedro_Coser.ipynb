{
 "cells": [
  {
   "cell_type": "markdown",
   "metadata": {},
   "source": [
    "# Project for SYSC5001"
   ]
  },
  {
   "cell_type": "markdown",
   "metadata": {},
   "source": [
    "### Simulation of a manufacturing plant"
   ]
  },
  {
   "cell_type": "markdown",
   "metadata": {},
   "source": [
    "### Importing Libraries"
   ]
  },
  {
   "cell_type": "code",
   "execution_count": 1,
   "metadata": {},
   "outputs": [],
   "source": [
    "import pandas as pd\n",
    "import numpy as np\n",
    "from random import expovariate, weibullvariate, randint"
   ]
  },
  {
   "cell_type": "markdown",
   "metadata": {},
   "source": [
    "## Creating the workstation variables and methods \n",
    "#### This stores the variables for each workstation,as well, the methods to start and finish the activities"
   ]
  },
  {
   "cell_type": "code",
   "execution_count": 140,
   "metadata": {},
   "outputs": [],
   "source": [
    "class workstation:\n",
    "    def __init__(self,param,iteration): #---------------------Variables \n",
    "        self.stat = 0         #Flag for worspace busy = 1, iddle = 0\n",
    "        self.bufferC1 = 0     #\n",
    "        self.bufferC2 = 0     #\n",
    "        self.bufferC3 = 0     #\n",
    "        self.work_time = 1    #Stores the total working time\n",
    "        self.start_time = 0   #Store the starting time in order to compute the working time\n",
    "        self.Production = 0   #Stores the total amount of Production\n",
    "        self.SS_Production = 0 #Stores the total amount of Components Inspected at Steady-state\n",
    "        self.parameters = param #Stores the parameters for random variable function\n",
    "        self.efficiency = ['']*iteration\n",
    "        self.Prod_rate = ['']*iteration\n",
    "    def start_ws(self, W,clock):\n",
    "        #get_random time\n",
    "        b,a,c = self.parameters\n",
    "        if a > 1:\n",
    "            time = c*weibullvariate(a,b)\n",
    "        else:\n",
    "            time = c*expovariate(a)\n",
    "        #change status\n",
    "        self.stat = 1\n",
    "        self.start_time = clock\n",
    "        self.bufferC1 -= 1          #Consume 1 component from the buffer C1\n",
    "        if W == 'w2':\n",
    "            self.bufferC2 -= 1      #Consume 1 component from the buffer C2\n",
    "        elif W == 'w3':\n",
    "            self.bufferC3 -= 1      #Consume 1 component from the buffer C3\n",
    "        #schedule next event\n",
    "        next_event = [time+clock, W,'Finish '+ W]\n",
    "        return next_event\n",
    "    def end_ws(self, clock):\n",
    "        #change status\n",
    "        self.stat = 0\n",
    "        self.work_time = self.work_time + clock - self.start_time\n",
    "        self.Production += 1\n",
    "    def statistics(self, count,Clock,ClockSS):\n",
    "        self.efficiency[count] = self.work_time/(Clock - ClockSS)\n",
    "        self.Prod_rate[count] = (self.Production/self.work_time)*60\n",
    "    def reset_statistics(self):\n",
    "        self.Production = 0\n",
    "        self.work_time = 1"
   ]
  },
  {
   "cell_type": "markdown",
   "metadata": {},
   "source": [
    "## Creating the Inspectors variables and methods\n",
    "#### This stores the variables for each inspector, as well has two methods to start and to finish the activities "
   ]
  },
  {
   "cell_type": "code",
   "execution_count": 141,
   "metadata": {},
   "outputs": [],
   "source": [
    "class inspector:\n",
    "    def __init__(self, iteration): #---------------------Variables \n",
    "        self.stat = 0       #Flag for inspector busy = 1, iddle = 0\n",
    "        self.block = 0      #Flag for inspector blocked due to lack of free spot to deliver\n",
    "        self.work_time = 1  #Stores the total working time \n",
    "        self.start_time = 0 #Store the starting time in order to compute the working time\n",
    "        self.C1 = 0 #Component waiting to deliver\n",
    "        self.C2 = 0 #Component waiting to deliver\n",
    "        self.C3 = 0 #Component waiting to deliver\n",
    "        self.Production = 0   #Stores the total amount of Components Inspected\n",
    "        self.efficiency = ['']*iteration\n",
    "        self.aver = 0         #average processing time\n",
    "        self.Prod_rate = ['']*iteration\n",
    "    def start_ipc(self, C, parameters, clock):#----------Method used to start one activity\n",
    "        #get_random time\n",
    "        b,a,c = parameters #Take the parameters to random variable function generator\n",
    "        if a > 1:          #Decide if the Distribution to use is Weibull or Exponential\n",
    "            time = c*weibullvariate(a,b)\n",
    "        else:\n",
    "            time = c*expovariate(a)\n",
    "        #change status\n",
    "        self.stat = 1     #Set status to busy \n",
    "        self.start_time = clock\n",
    "        #schedule next event/ Return information to input on the queue\n",
    "        next_event = [time+clock,'insp'+C[1],'Finish '+C]\n",
    "        return next_event\n",
    "    def end_ipc(self, clock):#--------------------------Method used to stop the current activity\n",
    "        self.stat = 0     #Set status to iddle\n",
    "        self.Production += 1\n",
    "        self.work_time = self.work_time + clock - self.start_time \n",
    "    def statistics(self, count,clock,clockSS):\n",
    "        self.efficiency[count] = self.work_time/(clock - clockSS)\n",
    "        self.Prod_rate[count] = (self.Production/self.work_time)*60\n",
    "    def reset_statistics(self):\n",
    "        self.Production = 0\n",
    "        self.work_time = 1"
   ]
  },
  {
   "cell_type": "markdown",
   "metadata": {},
   "source": [
    "## Insert new event to the Event List"
   ]
  },
  {
   "cell_type": "code",
   "execution_count": 4,
   "metadata": {},
   "outputs": [],
   "source": [
    "def event_list(lista):\n",
    "    lista = [lista[0],['w1={}'.format(w1.stat),\n",
    "                  'w1_buffer_C1={}'.format(w1.bufferC1),\n",
    "                  'w2={}'.format(w2.stat,w2.bufferC1),\n",
    "                  'w2_bufferC1={}'.format(w2.bufferC1),\n",
    "                  'w2_bufferC2={}'.format(w2.bufferC2),\n",
    "                  'w3={}'.format(w3.stat),\n",
    "                  'w3_bufferC1={}'.format(w3.bufferC1),\n",
    "                  'w3_bufferC3={}'.format(w3.bufferC3),\n",
    "                  'Insp1={}'.format(insp1.stat),\n",
    "                  'Insp1_Blocked={}'.format(insp1.block),\n",
    "                  'Insp2={}'.format(insp2.stat),\n",
    "                  'Insp2_Blocked={}'.format(insp2.block),\n",
    "                 ],queue,lista[1],lista[2],['w1_Prod={}'.format(w1.Production),\n",
    "                                           'w2_Prod={}'.format(w2.Production),\n",
    "                                           'w3_Prod={}'.format(w3.Production)]]\n",
    "    \n",
    "    Events.loc[-1] = lista  # adding a row\n",
    "    Events.index = Events.index + 1  # shifting index\n",
    "    Events.reset_index(inplace=True)\n",
    "    Events.drop('index',axis=1, inplace=True)"
   ]
  },
  {
   "cell_type": "markdown",
   "metadata": {},
   "source": [
    "## Insert new event to the Future Event queue"
   ]
  },
  {
   "cell_type": "code",
   "execution_count": 5,
   "metadata": {},
   "outputs": [],
   "source": [
    "def insert(lista):\n",
    "    queue.loc[-1] = lista  # adding a row\n",
    "    queue.index = queue.index + 1  # shifting index\n",
    "    queue.sort_values(by='Clock',axis=0, inplace=True)\n",
    "    queue.reset_index(inplace=True)\n",
    "    queue.drop('index',axis=1, inplace=True)"
   ]
  },
  {
   "cell_type": "markdown",
   "metadata": {},
   "source": [
    "## Getting and dropping first from list"
   ]
  },
  {
   "cell_type": "code",
   "execution_count": 6,
   "metadata": {},
   "outputs": [],
   "source": [
    "def next_event():\n",
    "    nexteve = queue.loc[0]\n",
    "    queue.drop(0,axis=0,inplace=True)\n",
    "    queue.reset_index(inplace=True)\n",
    "    queue.drop('index',axis=1, inplace=True)\n",
    "    return list(nexteve)"
   ]
  },
  {
   "cell_type": "markdown",
   "metadata": {},
   "source": [
    "## Initialization"
   ]
  },
  {
   "cell_type": "code",
   "execution_count": 147,
   "metadata": {},
   "outputs": [],
   "source": [
    "def initialization(itera):\n",
    "    global Clock,ClockSS,iteration,count,event,queue,Events,w1,w2,w3,insp1,insp2,ov_eff\n",
    "\n",
    "    Clock = 1\n",
    "    ClockSS = 0\n",
    "    iteration = itera\n",
    "    count = 0\n",
    "    event = ['','','']\n",
    "    queue = pd.DataFrame(columns=['Clock', 'Entity', 'Event'])\n",
    "    Events = pd.DataFrame(columns=['Clock', 'System State','FEQ','Entity', 'Event','Production'])\n",
    "    w1 = workstation([1,0.195,1],iteration)\n",
    "    w2 = workstation([1,6.0,1],iteration)\n",
    "    w3 = workstation([1,4.2,1],iteration)\n",
    "    insp1 = inspector(iteration)\n",
    "    insp2 = inspector(iteration)\n",
    "    ov_eff = ['']*iteration"
   ]
  },
  {
   "cell_type": "markdown",
   "metadata": {},
   "source": [
    "## Simulation Loop"
   ]
  },
  {
   "cell_type": "code",
   "execution_count": 183,
   "metadata": {},
   "outputs": [],
   "source": [
    "def loop():\n",
    "    global Clock,ClockSS,iteration,count,event,queue,Events,w1,w2,w3,insp1,insp2,ov_eff\n",
    "    \n",
    "    while True: \n",
    "        #Getting a new event from the list\n",
    "        if queue.size:             #Check if is not empty\n",
    "            event = next_event()\n",
    "            Clock = event[0]           #Updating Clock\n",
    "        #Executing Change of states triggered by the event\n",
    "        if event[2] == 'Finish C1':\n",
    "            insp1.end_ipc(Clock)\n",
    "            event_list([Clock, event[1], event[2]])\n",
    "            if w1.bufferC1 <= w2.bufferC1 and w1.bufferC1 <= w3.bufferC1 and w1.bufferC1 < 2:\n",
    "                w1.bufferC1 += 1\n",
    "            elif w2.bufferC1 <= w3.bufferC1 and w2.bufferC1 < 2:\n",
    "                w2.bufferC1 += 1\n",
    "            elif w3.bufferC1 < 2:\n",
    "                w3.bufferC1 += 1\n",
    "            else:\n",
    "                insp1.block = 1\n",
    "                insp1.C1 = 1\n",
    "        if event[2] == 'Finish C2':\n",
    "            insp2.end_ipc(Clock)\n",
    "            event_list([Clock, event[1], event[2]])\n",
    "            if w2.bufferC2 < 2:\n",
    "                w2.bufferC2 += 1\n",
    "            else:\n",
    "                insp2.block = 1\n",
    "                insp2.C2 = 1\n",
    "        if event[2] == 'Finish C3':\n",
    "            insp2.end_ipc(Clock)\n",
    "            event_list([Clock, event[1], event[2]])\n",
    "            if w3.bufferC3 < 2:\n",
    "                w3.bufferC3 += 1\n",
    "            else:\n",
    "                insp2.block = 1\n",
    "                insp2.C3 = 1\n",
    "        if event[2] == 'Finish w1':\n",
    "            w1.end_ws(Clock)\n",
    "            event_list([Clock, event[1], event[2]])\n",
    "        if event[2] == 'Finish w2':\n",
    "            w2.end_ws(Clock)\n",
    "            event_list([Clock, event[1], event[2]])\n",
    "        if event[2] == 'Finish w3':\n",
    "            w3.end_ws(Clock)\n",
    "            event_list([Clock, event[1], event[2]])\n",
    "\n",
    "        #Check for system status and initialyse activities if possible\n",
    "        #Workstation 1 -----------------------------------------Check if worksation can start new activity\n",
    "        busy1 = w1.stat\n",
    "        C1 = w1.bufferC1\n",
    "        if not busy1 and (C1>0):\n",
    "            insert(w1.start_ws('w1', Clock))              #Schedule finishing event\n",
    "            event_list([Clock,'w1','Starting w1'])\n",
    "        #Workstation 2 -----------------------------------------Check if worksation can start new activity\n",
    "        busy2 = w2.stat\n",
    "        C1 = w2.bufferC1\n",
    "        C2 = w2.bufferC2\n",
    "        if not busy2 and (C1>0) and (C2>0):\n",
    "            insert(w2.start_ws('w2', Clock))              #Schedule finishing event\n",
    "            event_list([Clock,'w2','Starting w2'])\n",
    "        #Workstation 3 -----------------------------------------Check if worksation can start new activity\n",
    "        busy3 = w3.stat\n",
    "        C1 = w3.bufferC1\n",
    "        C3 = w3.bufferC3\n",
    "        if not busy3 and (C1>0) and (C3>0):\n",
    "            insert(w3.start_ws('w3', Clock))              #Schedule finishing event\n",
    "            event_list([Clock,'w3','Starting w3'])\n",
    "\n",
    "        #inspector 1                                          #Check if inspector can start new activity\n",
    "        busy1 = insp1.stat\n",
    "        blocked1 = insp1.block\n",
    "        if not busy1 and not blocked1: \n",
    "            insert(insp1.start_ipc('C1', [1,10.8,1], Clock))              #Schedule finishing event\n",
    "            event_list([Clock,'insp1','Starting C1'])\n",
    "        #inspector 2                                          #Check if inspector can start new activity\n",
    "        busy2 = insp2.stat\n",
    "        blocked2 = insp2.block\n",
    "        if not busy2 and not blocked1:\n",
    "            rand = randint(0,1)\n",
    "            if rand == 1:\n",
    "                insert(insp2.start_ipc('C2', [1,14.8,1], Clock))          #Schedule finishing event\n",
    "                event_list([Clock,'insp2','Starting C2'])\n",
    "            else:\n",
    "                insert(insp2.start_ipc('C3', [1,0.0758,1], Clock))          #Schedule finishing event\n",
    "                event_list([Clock,'insp2','Starting C3'])\n",
    "\n",
    "        #Checking if inspectors can be unblocked\n",
    "        if insp1.C1 and (w1.bufferC1 < 2 or w1.bufferC1 < 2 or w1.bufferC1 < 2):\n",
    "            insp1.block = 0\n",
    "        if (insp2.C2 and w2.bufferC2 < 2) or (insp2.C3 and w3.bufferC3 < 2):\n",
    "            insp2.block = 0\n",
    "\n",
    "        #Collecting statistics from de entities\n",
    "        insp1.statistics(count,Clock,ClockSS)\n",
    "        insp2.statistics(count,Clock,ClockSS)\n",
    "        w1.statistics(count,Clock,ClockSS)\n",
    "        w2.statistics(count,Clock,ClockSS)\n",
    "        w3.statistics(count,Clock,ClockSS)\n",
    "        \n",
    "        #Reseting the production counters on the beginning of steady-state part\n",
    "        if count == 800:\n",
    "            ClockSS = Clock #Clock at Steady-State\n",
    "            insp1.reset_statistics()\n",
    "            insp2.reset_statistics()\n",
    "            w1.reset_statistics()\n",
    "            w2.reset_statistics()\n",
    "            w3.reset_statistics()\n",
    "            \n",
    "        #Finishing the Simulation\n",
    "        count += 1\n",
    "        if count >= iteration:\n",
    "            break\n",
    "    \n",
    "    #Computing the Cumulative Efficiency and Production Rate\n",
    "    W_aver = (np.array(w1.efficiency)+np.array(w1.efficiency)+np.array(w3.efficiency))/3\n",
    "    I_aver = (np.array(insp1.efficiency)+np.array(insp1.efficiency))/2\n",
    "    data = {'Inspector 1':insp1.efficiency,'Inspector 2':insp2.efficiency,'Workstation 1':w1.efficiency,'Workstation 2':w2.efficiency,'Workstation 3':w3.efficiency,'Inspectors Average':I_aver,'Workstation Average':W_aver}\n",
    "    ov_ef = pd.DataFrame(data)\n",
    "    data2 = {'Inspector 1':insp1.Prod_rate,'Inspector 2':insp2.Prod_rate,'Workstation 1':w1.Prod_rate,'Workstation 2':w2.Prod_rate,'Workstation 3':w3.Prod_rate}\n",
    "    prod_rate = pd.DataFrame(data2)\n",
    "    \n",
    "    #Computing the moving average production rate\n",
    "    mov_ave = pd.DataFrame(columns=['Inspector 1','Inspector 2','Workstation 1','Workstation 2','Workstation 3'])\n",
    "    for i in range(50,iteration,1):\n",
    "        is1 = (sum(insp1.Prod_rate[i-50:i])/51)\n",
    "        is2 = (sum(insp2.Prod_rate[i-50:i])/51)\n",
    "        ws1 = (sum(w1.Prod_rate[i-50:i])/51)\n",
    "        ws2 = (sum(w2.Prod_rate[i-50:i])/51)\n",
    "        ws3 = (sum(w3.Prod_rate[i-50:i])/51)\n",
    "        mov_ave.loc[i] = [is1,is2,ws1,ws2,ws3]\n",
    "        \n",
    "    #Computing the throughput \n",
    "    throughput = [insp1.Production/(Clock-ClockSS),insp2.Production/(Clock-ClockSS),w1.Production/(Clock-ClockSS),w2.Production/(Clock-ClockSS),w3.Production/(Clock-ClockSS),0]\n",
    "    throughput[5] = sum(throughput[2:5])    \n",
    "    return ov_ef, prod_rate, mov_ave, throughput"
   ]
  },
  {
   "cell_type": "markdown",
   "metadata": {},
   "source": [
    "## Control Loop"
   ]
  },
  {
   "cell_type": "markdown",
   "metadata": {},
   "source": [
    "This control loop is created to call the realizations of the model in 'i' times. And then, to store the datasets of the results. "
   ]
  },
  {
   "cell_type": "code",
   "execution_count": 186,
   "metadata": {},
   "outputs": [
    {
     "name": "stdout",
     "output_type": "stream",
     "text": [
      "0\n",
      "1\n",
      "2\n",
      "3\n",
      "4\n",
      "5\n",
      "6\n",
      "7\n",
      "8\n",
      "9\n",
      "10\n",
      "11\n",
      "12\n",
      "13\n",
      "14\n",
      "15\n",
      "16\n",
      "17\n",
      "18\n",
      "19\n",
      "20\n",
      "21\n",
      "22\n",
      "23\n",
      "24\n"
     ]
    }
   ],
   "source": [
    "ans = pd.DataFrame(columns=['Inspector 1', 'Inspector 2','Workstation 1','Workstation 2','Workstation 3','Inspectors Average','Workstation Average'])\n",
    "Comp_rate = pd.DataFrame(columns=['Inspector 1', 'Inspector 2','Workstation 1','Workstation 2','Workstation 3'])\n",
    "Throughput = pd.DataFrame(columns=['Inspector 1','Inspector 2','Workstation 1','Workstation 2','Workstation 3','Total'])\n",
    "ite = 1800\n",
    "for i in range(25):\n",
    "    initialization(ite)\n",
    "    ov_ef, prod_rate, move, throughput = loop()\n",
    "    ans.loc[i] = ov_ef.iloc[ite-1]  # Overall Effectiveness\n",
    "    Comp_rate.loc[i] = prod_rate.iloc[ite-1] #Production rate, considering only the busy time.\n",
    "    Throughput.loc[i] = throughput  #Production rate, considering the total time\n",
    "    Throughput.loc[i] = Throughput.loc[i]*60 #Throughput per hour\n",
    "    print(i)"
   ]
  },
  {
   "cell_type": "code",
   "execution_count": 189,
   "metadata": {
    "scrolled": true
   },
   "outputs": [
    {
     "name": "stdout",
     "output_type": "stream",
     "text": [
      "w1 C1 buffer 1\n",
      "w2 C1 buffer 0\n",
      "w2 C2 buffer 1\n",
      "w3 C1 buffer 0\n",
      "w3 C3 buffer 2\n",
      "w1 busy 1\n",
      "w2 busy 1\n",
      "w3 busy 0\n",
      "insp 1 blocked 0\n",
      "insp 2 blocked 0\n",
      "w1 Production 335\n",
      "w1 % of working time = 23.64%\n",
      "w2 Production 30\n",
      "w2 % of working time = 3.00%\n",
      "w3 Production = 8\n",
      "w3 % of working time = 0.56%\n",
      "Overall effectiveness = 9.07%\n",
      "\n",
      "Inspector 1 working rate = 54.18%\n",
      "Inspector 2 working rate = 54.23%\n"
     ]
    },
    {
     "data": {
      "text/html": [
       "<div>\n",
       "<style scoped>\n",
       "    .dataframe tbody tr th:only-of-type {\n",
       "        vertical-align: middle;\n",
       "    }\n",
       "\n",
       "    .dataframe tbody tr th {\n",
       "        vertical-align: top;\n",
       "    }\n",
       "\n",
       "    .dataframe thead th {\n",
       "        text-align: right;\n",
       "    }\n",
       "</style>\n",
       "<table border=\"1\" class=\"dataframe\">\n",
       "  <thead>\n",
       "    <tr style=\"text-align: right;\">\n",
       "      <th></th>\n",
       "      <th>Clock</th>\n",
       "      <th>System State</th>\n",
       "      <th>FEQ</th>\n",
       "      <th>Entity</th>\n",
       "      <th>Event</th>\n",
       "      <th>Production</th>\n",
       "    </tr>\n",
       "  </thead>\n",
       "  <tbody>\n",
       "    <tr>\n",
       "      <th>3597</th>\n",
       "      <td>6861.51</td>\n",
       "      <td>[w1=1, w1_buffer_C1=0, w2=0, w2_bufferC1=0, w2...</td>\n",
       "      <td>Clock Entity      Event\n",
       "0  6863.20434...</td>\n",
       "      <td>insp1</td>\n",
       "      <td>Finish C1</td>\n",
       "      <td>[w1_Prod=335, w2_Prod=30, w3_Prod=8]</td>\n",
       "    </tr>\n",
       "    <tr>\n",
       "      <th>3598</th>\n",
       "      <td>6861.51</td>\n",
       "      <td>[w1=1, w1_buffer_C1=1, w2=0, w2_bufferC1=0, w2...</td>\n",
       "      <td>Clock Entity      Event\n",
       "0  6863.20434...</td>\n",
       "      <td>insp1</td>\n",
       "      <td>Starting C1</td>\n",
       "      <td>[w1_Prod=335, w2_Prod=30, w3_Prod=8]</td>\n",
       "    </tr>\n",
       "    <tr>\n",
       "      <th>3599</th>\n",
       "      <td>6862.94</td>\n",
       "      <td>[w1=1, w1_buffer_C1=1, w2=0, w2_bufferC1=0, w2...</td>\n",
       "      <td>Clock Entity      Event\n",
       "0  6863.20434...</td>\n",
       "      <td>insp1</td>\n",
       "      <td>Finish C1</td>\n",
       "      <td>[w1_Prod=335, w2_Prod=30, w3_Prod=8]</td>\n",
       "    </tr>\n",
       "    <tr>\n",
       "      <th>3600</th>\n",
       "      <td>6862.94</td>\n",
       "      <td>[w1=1, w1_buffer_C1=1, w2=1, w2_bufferC1=0, w2...</td>\n",
       "      <td>Clock Entity      Event\n",
       "0  6863.20434...</td>\n",
       "      <td>w2</td>\n",
       "      <td>Starting w2</td>\n",
       "      <td>[w1_Prod=335, w2_Prod=30, w3_Prod=8]</td>\n",
       "    </tr>\n",
       "    <tr>\n",
       "      <th>3601</th>\n",
       "      <td>6862.94</td>\n",
       "      <td>[w1=1, w1_buffer_C1=1, w2=1, w2_bufferC1=0, w2...</td>\n",
       "      <td>Clock Entity      Event\n",
       "0  6863.20434...</td>\n",
       "      <td>insp1</td>\n",
       "      <td>Starting C1</td>\n",
       "      <td>[w1_Prod=335, w2_Prod=30, w3_Prod=8]</td>\n",
       "    </tr>\n",
       "  </tbody>\n",
       "</table>\n",
       "</div>"
      ],
      "text/plain": [
       "        Clock                                       System State  \\\n",
       "3597  6861.51  [w1=1, w1_buffer_C1=0, w2=0, w2_bufferC1=0, w2...   \n",
       "3598  6861.51  [w1=1, w1_buffer_C1=1, w2=0, w2_bufferC1=0, w2...   \n",
       "3599  6862.94  [w1=1, w1_buffer_C1=1, w2=0, w2_bufferC1=0, w2...   \n",
       "3600  6862.94  [w1=1, w1_buffer_C1=1, w2=1, w2_bufferC1=0, w2...   \n",
       "3601  6862.94  [w1=1, w1_buffer_C1=1, w2=1, w2_bufferC1=0, w2...   \n",
       "\n",
       "                                                    FEQ Entity        Event  \\\n",
       "3597           Clock Entity      Event\n",
       "0  6863.20434...  insp1    Finish C1   \n",
       "3598           Clock Entity      Event\n",
       "0  6863.20434...  insp1  Starting C1   \n",
       "3599           Clock Entity      Event\n",
       "0  6863.20434...  insp1    Finish C1   \n",
       "3600           Clock Entity      Event\n",
       "0  6863.20434...     w2  Starting w2   \n",
       "3601           Clock Entity      Event\n",
       "0  6863.20434...  insp1  Starting C1   \n",
       "\n",
       "                                Production  \n",
       "3597  [w1_Prod=335, w2_Prod=30, w3_Prod=8]  \n",
       "3598  [w1_Prod=335, w2_Prod=30, w3_Prod=8]  \n",
       "3599  [w1_Prod=335, w2_Prod=30, w3_Prod=8]  \n",
       "3600  [w1_Prod=335, w2_Prod=30, w3_Prod=8]  \n",
       "3601  [w1_Prod=335, w2_Prod=30, w3_Prod=8]  "
      ]
     },
     "execution_count": 189,
     "metadata": {},
     "output_type": "execute_result"
    }
   ],
   "source": [
    "print('w1 C1 buffer',w1.bufferC1)\n",
    "print('w2 C1 buffer',w2.bufferC1)\n",
    "print('w2 C2 buffer',w2.bufferC2)\n",
    "print('w3 C1 buffer',w3.bufferC1)\n",
    "print('w3 C3 buffer',w3.bufferC3)\n",
    "print('w1 busy',w1.stat)\n",
    "print('w2 busy',w2.stat)\n",
    "print('w3 busy',w3.stat)\n",
    "print('insp 1 blocked', insp1.block)\n",
    "print('insp 2 blocked', insp2.block)\n",
    "print('w1 Production', w1.Production)\n",
    "print('w1 % of working time = {:2.2%}'.format(w1.work_time/Clock))\n",
    "print('w2 Production', w2.Production)\n",
    "print('w2 % of working time = {:2.2%}'.format(w2.work_time/Clock))\n",
    "print('w3 Production =', w3.Production)\n",
    "print('w3 % of working time = {:2.2%}'.format(w3.work_time/Clock))\n",
    "print('Overall effectiveness = {:2.2%}'.format((1/3)*((w1.work_time + w2.work_time + w3.work_time)/Clock)))\n",
    "print('')\n",
    "print('Inspector 1 working rate = {:2.2%}'.format(insp1.work_time/Clock))\n",
    "print('Inspector 2 working rate = {:2.2%}'.format(insp2.work_time/Clock))\n",
    "Events.tail()"
   ]
  },
  {
   "cell_type": "markdown",
   "metadata": {},
   "source": [
    "# Results"
   ]
  },
  {
   "cell_type": "markdown",
   "metadata": {},
   "source": [
    "Throughput and its standard deviation and mean value. \n",
    "To computing the Confidence Interval"
   ]
  },
  {
   "cell_type": "markdown",
   "metadata": {},
   "source": [
    "### Computing Standard deviation and Mean Value"
   ]
  },
  {
   "cell_type": "code",
   "execution_count": 190,
   "metadata": {},
   "outputs": [
    {
     "data": {
      "text/plain": [
       "Inspector 1      0.350603\n",
       "Inspector 2      0.264725\n",
       "Workstation 1    0.269191\n",
       "Workstation 2    0.111405\n",
       "Workstation 3    0.061780\n",
       "Total            0.342524\n",
       "dtype: float64"
      ]
     },
     "execution_count": 190,
     "metadata": {},
     "output_type": "execute_result"
    }
   ],
   "source": [
    "S = np.std(Throughput, axis=0)\n",
    "S"
   ]
  },
  {
   "cell_type": "code",
   "execution_count": 191,
   "metadata": {},
   "outputs": [
    {
     "data": {
      "text/plain": [
       "Inspector 1      5.641052\n",
       "Inspector 2      4.165760\n",
       "Workstation 1    4.873856\n",
       "Workstation 2    0.657019\n",
       "Workstation 3    0.111860\n",
       "Total            5.642735\n",
       "dtype: float64"
      ]
     },
     "execution_count": 191,
     "metadata": {},
     "output_type": "execute_result"
    }
   ],
   "source": [
    "miu = np.mean(Throughput, axis=0)\n",
    "miu"
   ]
  },
  {
   "cell_type": "markdown",
   "metadata": {},
   "source": [
    "### Confidence Interval"
   ]
  },
  {
   "cell_type": "markdown",
   "metadata": {},
   "source": [
    "Upper Bound"
   ]
  },
  {
   "cell_type": "code",
   "execution_count": 193,
   "metadata": {},
   "outputs": [
    {
     "data": {
      "text/plain": [
       "Inspector 1      5.760608\n",
       "Inspector 2      4.256032\n",
       "Workstation 1    4.965650\n",
       "Workstation 2    0.695008\n",
       "Workstation 3    0.132927\n",
       "Total            5.759536\n",
       "dtype: float64"
      ]
     },
     "execution_count": 193,
     "metadata": {},
     "output_type": "execute_result"
    }
   ],
   "source": [
    "ub = (1.705*S)/5 + miu\n",
    "ub"
   ]
  },
  {
   "cell_type": "markdown",
   "metadata": {},
   "source": [
    "Lower Bound"
   ]
  },
  {
   "cell_type": "code",
   "execution_count": 196,
   "metadata": {},
   "outputs": [
    {
     "data": {
      "text/plain": [
       "Inspector 1      5.521496\n",
       "Inspector 2      4.075489\n",
       "Workstation 1    4.782062\n",
       "Workstation 2    0.619029\n",
       "Workstation 3    0.090793\n",
       "Total            5.525934\n",
       "dtype: float64"
      ]
     },
     "execution_count": 196,
     "metadata": {},
     "output_type": "execute_result"
    }
   ],
   "source": [
    "lb = (-1.705*S)/5 + miu\n",
    "lb"
   ]
  },
  {
   "cell_type": "markdown",
   "metadata": {},
   "source": [
    "## This results is to evaluate the Little`s Law"
   ]
  },
  {
   "cell_type": "markdown",
   "metadata": {},
   "source": [
    "#### Time per Production"
   ]
  },
  {
   "cell_type": "code",
   "execution_count": 13,
   "metadata": {},
   "outputs": [
    {
     "name": "stdout",
     "output_type": "stream",
     "text": [
      "inspector 1: 10.553616172599725\n",
      "inspector : 15.56171307670869\n",
      "workstation 1: 5.2347094717070775\n",
      "workstation 2: 7.2581407603140216\n",
      "workstation 3: 4.938465415516248\n"
     ]
    }
   ],
   "source": [
    "print('inspector 1:',insp1.work_time/insp1.Production)\n",
    "print('inspector :',insp2.work_time/insp2.Production)\n",
    "print('workstation 1:',w1.work_time/w1.Production)\n",
    "print('workstation 2:',w2.work_time/w2.Production)\n",
    "print('workstation 3:',w3.work_time/w3.Production)"
   ]
  },
  {
   "cell_type": "markdown",
   "metadata": {},
   "source": [
    "#### Production per hour"
   ]
  },
  {
   "cell_type": "code",
   "execution_count": 14,
   "metadata": {},
   "outputs": [
    {
     "name": "stdout",
     "output_type": "stream",
     "text": [
      "inspector 1: 5.685255084013531\n",
      "inspector : 3.855616647360139\n",
      "workstation 1: 11.461954158925566\n",
      "workstation 2: 8.266579828276038\n",
      "workstation 3: 12.14952317201311\n"
     ]
    }
   ],
   "source": [
    "print('inspector 1:',(insp1.Production/insp1.work_time)*60)\n",
    "print('inspector :',(insp2.Production/insp2.work_time)*60)\n",
    "print('workstation 1:',(w1.Production/w1.work_time)*60)\n",
    "print('workstation 2:',(w2.Production/w2.work_time)*60)\n",
    "print('workstation 3:',(w3.Production/w3.work_time)*60)"
   ]
  },
  {
   "cell_type": "markdown",
   "metadata": {},
   "source": [
    "### Plotting the results"
   ]
  },
  {
   "cell_type": "code",
   "execution_count": 65,
   "metadata": {},
   "outputs": [],
   "source": [
    "%matplotlib inline \n",
    "import matplotlib as mpl\n",
    "import matplotlib.pyplot as plt"
   ]
  },
  {
   "cell_type": "code",
   "execution_count": 16,
   "metadata": {},
   "outputs": [
    {
     "data": {
      "text/plain": [
       "<matplotlib.axes._subplots.AxesSubplot at 0x2175ed48518>"
      ]
     },
     "execution_count": 16,
     "metadata": {},
     "output_type": "execute_result"
    },
    {
     "data": {
      "image/png": "[encoded data removed]",
      "text/plain": [
       "<Figure size 432x288 with 1 Axes>"
      ]
     },
     "metadata": {
      "needs_background": "light"
     },
     "output_type": "display_data"
    }
   ],
   "source": [
    "ov_ef.plot()"
   ]
  },
  {
   "cell_type": "code",
   "execution_count": 17,
   "metadata": {},
   "outputs": [
    {
     "data": {
      "text/plain": [
       "<matplotlib.axes._subplots.AxesSubplot at 0x21762c3cc88>"
      ]
     },
     "execution_count": 17,
     "metadata": {},
     "output_type": "execute_result"
    },
    {
     "data": {
      "image/png": "[encoded data removed]",
      "text/plain": [
       "<Figure size 432x288 with 1 Axes>"
      ]
     },
     "metadata": {
      "needs_background": "light"
     },
     "output_type": "display_data"
    }
   ],
   "source": [
    "prod_rate.plot()"
   ]
  },
  {
   "cell_type": "code",
   "execution_count": 136,
   "metadata": {},
   "outputs": [
    {
     "data": {
      "text/plain": [
       "<matplotlib.axes._subplots.AxesSubplot at 0x2176456e668>"
      ]
     },
     "execution_count": 136,
     "metadata": {},
     "output_type": "execute_result"
    },
    {
     "data": {
      "image/png": "[encoded data removed]",
      "text/plain": [
       "<Figure size 432x288 with 1 Axes>"
      ]
     },
     "metadata": {
      "needs_background": "light"
     },
     "output_type": "display_data"
    }
   ],
   "source": [
    "move.plot()"
   ]
  },
  {
   "cell_type": "code",
   "execution_count": null,
   "metadata": {},
   "outputs": [],
   "source": []
  }
 ],
 "metadata": {
  "kernelspec": {
   "display_name": "Python 3",
   "language": "python",
   "name": "python3"
  },
  "language_info": {
   "codemirror_mode": {
    "name": "ipython",
    "version": 3
   },
   "file_extension": ".py",
   "mimetype": "text/x-python",
   "name": "python",
   "nbconvert_exporter": "python",
   "pygments_lexer": "ipython3",
   "version": "3.7.0"
  }
 },
 "nbformat": 4,
 "nbformat_minor": 2
}
